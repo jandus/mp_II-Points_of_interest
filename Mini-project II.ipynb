{
 "cells": [
  {
   "cell_type": "markdown",
   "metadata": {},
   "source": [
    "# Mini-Project II\n",
    "The main goal of the mini-project is to build the database of restaurants, bars and various points of interest (POIs) in the area of your choice and find out which API has better coverage in the selected area. The APIs have limited number of requests for free, so start with the smaller area. The project consists of following tasks:\n",
    "\n",
    "#### Instructions:\n",
    "\n",
    "- pull the data about various POIs in the area through API. (Search Yelp for companiees that are in the area using [these instructions](https://www.yelp.com/developers/documentation/v3/business_search)). If you run out of requests for any of the APIs, don't worry, it's ok to use only sample data you already have or the POIs from the Yelp API. It's approach and process that counts, not the actual number of places we were able to get.\n",
    "- create own SQLite database and store the data about the POIs. Think about what will be the best structure of the database. We've used and created sqlite3 databases before in the activity [**SQL in Python**](https://data.compass.lighthouselabs.ca/b9e08cd5-68c6-490c-a32b-a66f01bf53e1).\n",
    "- compare the results using SQL or Pandas (it's up to you:)) and see which API has a better coverage of the area.\n",
    "- choose the top 10 POIs based on the popularity (number of reviews or average rating) ([Yelp](https://www.yelp.com/developers/documentation/v3/business), [Foursquare](https://developer.foursquare.com/docs/api-reference/venues/details/)).\n",
    "- (Stretch) By implementing [travelling salesman problem (TSP)](https://en.wikipedia.org/wiki/Travelling_salesman_problem), how much time would it take to visit all of these places? ([Directions API](https://developers.google.com/maps/documentation/directions/start) from google will be helpful here). We will have to find travel time between all places (top 10). We can use [ortools](https://developers.google.com/optimization/routing/tsp) from Google to effectively implement TSP. These tools are very powerful and [easy to install](https://developers.google.com/optimization/install)."
   ]
  },
  {
   "cell_type": "code",
   "execution_count": 1,
   "metadata": {},
   "outputs": [],
   "source": [
    "# Build data base of restaurants, bars and various points of Interest (POIs)\n",
    "# Find out which API has better coverage in the selected area. \n",
    "#- Toronto - Yorkville (lat_long: 43.6702287372475, -79.39126856350059)\n",
    "\n",
    "#'39.06003891,-86.49843283'"
   ]
  },
  {
   "cell_type": "code",
   "execution_count": 2,
   "metadata": {},
   "outputs": [],
   "source": [
    "# Import libraries\n",
    "import requests\n",
    "import pandas as pd\n",
    "import sqlite3\n",
    "from sqlite3 import Error\n",
    "import foursquare\n",
    "from config import fsq, yep\n",
    "from IPython.display import JSON\n",
    "from numpy.random import default_rng"
   ]
  },
  {
   "cell_type": "code",
   "execution_count": null,
   "metadata": {},
   "outputs": [],
   "source": [
    "# 1. Pull data about various POIs in the area through API - yelp and foursquare\n",
    "# 2. Create SQLite database and store the data bout the POIs. - design structure of the database\n",
    "# 3. Compare result using SQL or Pandas (it's up to you) and see which API has a better coverage of the area.\n",
    "# 4. Choose the top 10 POIs based on the popularity"
   ]
  },
  {
   "cell_type": "markdown",
   "metadata": {},
   "source": [
    "## Pull data about various POIs in the area through API - yelp and foursquare"
   ]
  },
  {
   "cell_type": "markdown",
   "metadata": {},
   "source": [
    "Foursquare:\n",
    "\n",
    "* 950 Regular Calls/Day\n",
    "* 50 Premium Calls/Day\n",
    "* 1 Photo per Venue\n",
    "* 1 Tip per Venue\n",
    "\n",
    "Yelp:\n",
    "* Daily API limit 5000\n",
    "* Remaining API Calls 5000"
   ]
  },
  {
   "cell_type": "markdown",
   "metadata": {},
   "source": [
    "#### Foursquare"
   ]
  },
  {
   "cell_type": "code",
   "execution_count": 3,
   "metadata": {},
   "outputs": [],
   "source": [
    "radius = '1000'"
   ]
  },
  {
   "cell_type": "code",
   "execution_count": 4,
   "metadata": {},
   "outputs": [],
   "source": [
    "# Foursquare connection\n",
    "foursquare_id = fsq['client_id']\n",
    "foursquare_secret = fsq['client_secret']\n",
    "client = foursquare.Foursquare(client_id=foursquare_id, client_secret=foursquare_secret)\n",
    "\n",
    "#Select 30 - for details"
   ]
  },
  {
   "cell_type": "code",
   "execution_count": 5,
   "metadata": {},
   "outputs": [],
   "source": [
    "# Get business Id\n",
    "## How many venues?\n",
    "#soup,museums,coffeshops,musicvenues '4bf58dd8d48988d1dd931735,4bf58dd8d48988d181941735,4bf58dd8d48988d1e0931735,4bf58dd8d48988d1e5931735'\n",
    "def get_foursquare_venues(lat_long, catId, radius):\n",
    "    '''\n",
    "    Returns a list of information for \"Nightlife Spot\" in a radius of 5km based on lat and long provided\n",
    "     Category id is for \"Nightlife Spot\"\n",
    "    '''\n",
    "    venues  = client.venues.search(params={'categoryId' : catId, 'll': lat_long, 'radius': radius, 'limit': '50'})\n",
    "\n",
    "    return venues"
   ]
  },
  {
   "cell_type": "code",
   "execution_count": 6,
   "metadata": {},
   "outputs": [],
   "source": [
    "def get_foursquare_venue_details(venue_id):\n",
    "    \n",
    "    venue_details = client.venues(venue_id)\n",
    "    \n",
    "    return venue_details"
   ]
  },
  {
   "cell_type": "code",
   "execution_count": 7,
   "metadata": {},
   "outputs": [],
   "source": [
    "# Get Foursquare venues\n",
    "foursquare_venues = get_foursquare_venues('43.6702287372475, -79.39126856350059', '4bf58dd8d48988d1dd931735,4bf58dd8d48988d181941735,4bf58dd8d48988d1e0931735,4bf58dd8d48988d1e5931735', radius)"
   ]
  },
  {
   "cell_type": "code",
   "execution_count": 8,
   "metadata": {},
   "outputs": [
    {
     "data": {
      "application/json": {
       "confident": false,
       "venues": [
        {
         "categories": [
          {
           "icon": {
            "prefix": "https://ss3.4sqi.net/img/categories_v2/food/coffeeshop_",
            "suffix": ".png"
           },
           "id": "4bf58dd8d48988d1e0931735",
           "name": "Coffee Shop",
           "pluralName": "Coffee Shops",
           "primary": true,
           "shortName": "Coffee Shop"
          }
         ],
         "hasPerk": false,
         "id": "56046c7d498e66c67551d0e3",
         "location": {
          "address": "102 Bloor St W",
          "cc": "CA",
          "city": "Toronto",
          "country": "Canada",
          "crossStreet": "btwn Avenue Rd & Bay St",
          "distance": 54,
          "formattedAddress": [
           "102 Bloor St W (btwn Avenue Rd & Bay St)",
           "Toronto ON M5S 1M8",
           "Canada"
          ],
          "labeledLatLngs": [
           {
            "label": "display",
            "lat": 43.66995375187845,
            "lng": -79.39182812626106
           }
          ],
          "lat": 43.66995375187845,
          "lng": -79.39182812626106,
          "postalCode": "M5S 1M8",
          "state": "ON"
         },
         "name": "Sorry Coffee Co.",
         "referralId": "v-1622844916"
        },
        {
         "categories": [
          {
           "icon": {
            "prefix": "https://ss3.4sqi.net/img/categories_v2/food/coffeeshop_",
            "suffix": ".png"
           },
           "id": "4bf58dd8d48988d1e0931735",
           "name": "Coffee Shop",
           "pluralName": "Coffee Shops",
           "primary": true,
           "shortName": "Coffee Shop"
          }
         ],
         "hasPerk": false,
         "id": "4af1e33df964a5201ee421e3",
         "location": {
          "address": "1250 Bay St, 100 The Maxus",
          "cc": "CA",
          "city": "Toronto",
          "country": "Canada",
          "crossStreet": "at Cumberland Ave",
          "distance": 87,
          "formattedAddress": [
           "1250 Bay St, 100 The Maxus (at Cumberland Ave)",
           "Toronto ON M5R 2B1",
           "Canada"
          ],
          "labeledLatLngs": [
           {
            "label": "display",
            "lat": 43.670627,
            "lng": -79.390337
           }
          ],
          "lat": 43.670627,
          "lng": -79.390337,
          "postalCode": "M5R 2B1",
          "state": "ON"
         },
         "name": "Starbucks",
         "referralId": "v-1622844916"
        },
        {
         "categories": [
          {
           "icon": {
            "prefix": "https://ss3.4sqi.net/img/categories_v2/food/coffeeshop_",
            "suffix": ".png"
           },
           "id": "4bf58dd8d48988d1e0931735",
           "name": "Coffee Shop",
           "pluralName": "Coffee Shops",
           "primary": true,
           "shortName": "Coffee Shop"
          }
         ],
         "hasPerk": false,
         "id": "5906565166f3cd3ef4386176",
         "location": {
          "address": "110 Bloor Street West, Unit C",
          "cc": "CA",
          "city": "Toronto",
          "country": "Canada",
          "crossStreet": "Cumberland & Critchley Lane",
          "distance": 115,
          "formattedAddress": [
           "110 Bloor Street West, Unit C (Cumberland & Critchley Lane)",
           "Toronto ON M5S 2W7",
           "Canada"
          ],
          "labeledLatLngs": [
           {
            "label": "display",
            "lat": 43.66945,
            "lng": -79.39222
           }
          ],
          "lat": 43.66945,
          "lng": -79.39222,
          "postalCode": "M5S 2W7",
          "state": "ON"
         },
         "name": "Starbucks",
         "referralId": "v-1622844916"
        },
        {
         "categories": [
          {
           "icon": {
            "prefix": "https://ss3.4sqi.net/img/categories_v2/food/coffeeshop_",
            "suffix": ".png"
           },
           "id": "4bf58dd8d48988d1e0931735",
           "name": "Coffee Shop",
           "pluralName": "Coffee Shops",
           "primary": true,
           "shortName": "Coffee Shop"
          }
         ],
         "hasPerk": false,
         "id": "4b01f8cef964a520e84622e3",
         "location": {
          "address": "175 Bloor St E",
          "cc": "CA",
          "city": "Toronto",
          "country": "Canada",
          "crossStreet": "at Church",
          "distance": 709,
          "formattedAddress": [
           "175 Bloor St E (at Church)",
           "Toronto ON M4W 3R8",
           "Canada"
          ],
          "labeledLatLngs": [
           {
            "label": "display",
            "lat": 43.67099329111639,
            "lng": -79.38252121210098
           }
          ],
          "lat": 43.67099329111639,
          "lng": -79.38252121210098,
          "postalCode": "M4W 3R8",
          "state": "ON"
         },
         "name": "Tim Hortons",
         "referralId": "v-1622844916"
        },
        {
         "categories": [
          {
           "icon": {
            "prefix": "https://ss3.4sqi.net/img/categories_v2/food/coffeeshop_",
            "suffix": ".png"
           },
           "id": "4bf58dd8d48988d1e0931735",
           "name": "Coffee Shop",
           "pluralName": "Coffee Shops",
           "primary": true,
           "shortName": "Coffee Shop"
          }
         ],
         "hasPerk": false,
         "id": "52459c6f498e70b18c0cb965",
         "location": {
          "address": "47 Charles Street West",
          "cc": "CA",
          "city": "Toronto",
          "country": "Canada",
          "crossStreet": "at Bay St",
          "distance": 335,
          "formattedAddress": [
           "47 Charles Street West (at Bay St)",
           "Toronto ON M4Y 2R4",
           "Canada"
          ],
          "labeledLatLngs": [
           {
            "label": "display",
            "lat": 43.668071,
            "lng": -79.388367
           }
          ],
          "lat": 43.668071,
          "lng": -79.388367,
          "postalCode": "M4Y 2R4",
          "state": "ON"
         },
         "name": "Starbucks",
         "referralId": "v-1622844916"
        },
        {
         "categories": [
          {
           "icon": {
            "prefix": "https://ss3.4sqi.net/img/categories_v2/food/coffeeshop_",
            "suffix": ".png"
           },
           "id": "4bf58dd8d48988d1e0931735",
           "name": "Coffee Shop",
           "pluralName": "Coffee Shops",
           "primary": true,
           "shortName": "Coffee Shop"
          }
         ],
         "hasPerk": false,
         "id": "4b8fca29f964a5206e6233e3",
         "location": {
          "address": "620 Jarvis St",
          "cc": "CA",
          "city": "Toronto",
          "country": "Canada",
          "crossStreet": "Bloor Street",
          "distance": 851,
          "formattedAddress": [
           "620 Jarvis St (Bloor Street)",
           "Toronto ON M4Y 2H9",
           "Canada"
          ],
          "labeledLatLngs": [
           {
            "label": "display",
            "lat": 43.671082,
            "lng": -79.380756
           }
          ],
          "lat": 43.671082,
          "lng": -79.380756,
          "postalCode": "M4Y 2H9",
          "state": "ON"
         },
         "name": "Starbucks",
         "referralId": "v-1622844916"
        },
        {
         "categories": [
          {
           "icon": {
            "prefix": "https://ss3.4sqi.net/img/categories_v2/food/coffeeshop_",
            "suffix": ".png"
           },
           "id": "4bf58dd8d48988d1e0931735",
           "name": "Coffee Shop",
           "pluralName": "Coffee Shops",
           "primary": true,
           "shortName": "Coffee Shop"
          }
         ],
         "hasPerk": false,
         "id": "5a54c03432b61d59f4c284cb",
         "location": {
          "address": "563 Sherbourne Street",
          "cc": "CA",
          "city": "Toronto",
          "country": "Canada",
          "distance": 1264,
          "formattedAddress": [
           "563 Sherbourne Street",
           "Toronto ON M4X 1W7",
           "Canada"
          ],
          "labeledLatLngs": [
           {
            "label": "display",
            "lat": 43.6698555,
            "lng": -79.375578
           }
          ],
          "lat": 43.6698555,
          "lng": -79.375578,
          "postalCode": "M4X 1W7",
          "state": "ON"
         },
         "name": "Tim Hortons",
         "referralId": "v-1622844916"
        },
        {
         "categories": [
          {
           "icon": {
            "prefix": "https://ss3.4sqi.net/img/categories_v2/food/coffeeshop_",
            "suffix": ".png"
           },
           "id": "4bf58dd8d48988d1e0931735",
           "name": "Coffee Shop",
           "pluralName": "Coffee Shops",
           "primary": true,
           "shortName": "Coffee Shop"
          }
         ],
         "hasPerk": false,
         "id": "54c2546e498e9ffb3cf6881f",
         "location": {
          "address": "110 Bloor Street West",
          "cc": "CA",
          "city": "Toronto",
          "country": "Canada",
          "crossStreet": "Cumberland Ave",
          "distance": 554,
          "formattedAddress": [
           "110 Bloor Street West (Cumberland Ave)",
           "Toronto ON M5S 2W7",
           "Canada"
          ],
          "labeledLatLngs": [
           {
            "label": "display",
            "lat": 43.674999209923584,
            "lng": -79.39324059721075
           }
          ],
          "lat": 43.674999209923584,
          "lng": -79.39324059721075,
          "postalCode": "M5S 2W7",
          "state": "ON"
         },
         "name": "Starbucks",
         "referralId": "v-1622844916"
        },
        {
         "categories": [
          {
           "icon": {
            "prefix": "https://ss3.4sqi.net/img/categories_v2/arts_entertainment/museum_",
            "suffix": ".png"
           },
           "id": "4bf58dd8d48988d181941735",
           "name": "Museum",
           "pluralName": "Museums",
           "primary": true,
           "shortName": "Museum"
          }
         ],
         "hasPerk": false,
         "id": "4ad4c05ef964a520d9f620e3",
         "location": {
          "address": "100 Queen's Pk",
          "cc": "CA",
          "city": "Toronto",
          "country": "Canada",
          "crossStreet": "at Bloor St. W.",
          "distance": 352,
          "formattedAddress": [
           "100 Queen's Pk (at Bloor St. W.)",
           "Toronto ON M5S 2C6",
           "Canada"
          ],
          "labeledLatLngs": [
           {
            "label": "display",
            "lat": 43.668367065616046,
            "lng": -79.3948129405877
           }
          ],
          "lat": 43.668367065616046,
          "lng": -79.3948129405877,
          "neighborhood": "University",
          "postalCode": "M5S 2C6",
          "state": "ON"
         },
         "name": "Royal Ontario Museum",
         "referralId": "v-1622844916"
        },
        {
         "categories": [
          {
           "icon": {
            "prefix": "https://ss3.4sqi.net/img/categories_v2/food/coffeeshop_",
            "suffix": ".png"
           },
           "id": "4bf58dd8d48988d1e0931735",
           "name": "Coffee Shop",
           "pluralName": "Coffee Shops",
           "primary": true,
           "shortName": "Coffee Shop"
          }
         ],
         "hasPerk": false,
         "id": "4d249ace0e998cfa43b9253f",
         "location": {
          "address": "50 Bloor St W, Unit C10 Holt Renfrew Centre",
          "cc": "CA",
          "city": "Toronto",
          "country": "Canada",
          "distance": 242,
          "formattedAddress": [
           "50 Bloor St W, Unit C10 Holt Renfrew Centre",
           "Toronto ON M4W 2L8",
           "Canada"
          ],
          "labeledLatLngs": [
           {
            "label": "display",
            "lat": 43.67034,
            "lng": -79.388262
           }
          ],
          "lat": 43.67034,
          "lng": -79.388262,
          "postalCode": "M4W 2L8",
          "state": "ON"
         },
         "name": "Starbucks",
         "referralId": "v-1622844916"
        },
        {
         "categories": [
          {
           "icon": {
            "prefix": "https://ss3.4sqi.net/img/categories_v2/food/coffeeshop_",
            "suffix": ".png"
           },
           "id": "4bf58dd8d48988d1e0931735",
           "name": "Coffee Shop",
           "pluralName": "Coffee Shops",
           "primary": true,
           "shortName": "Coffee Shop"
          }
         ],
         "hasPerk": false,
         "id": "5cf27d0fd552c7002cb0c3e2",
         "location": {
          "address": "444 Yonge Street",
          "cc": "CA",
          "city": "Toronto",
          "country": "Canada",
          "distance": 1229,
          "formattedAddress": [
           "444 Yonge Street",
           "Toronto ON M5B 2H4",
           "Canada"
          ],
          "labeledLatLngs": [
           {
            "label": "display",
            "lat": 43.6607,
            "lng": -79.383553
           }
          ],
          "lat": 43.6607,
          "lng": -79.383553,
          "postalCode": "M5B 2H4",
          "state": "ON"
         },
         "name": "Starbucks",
         "referralId": "v-1622844916"
        },
        {
         "categories": [
          {
           "icon": {
            "prefix": "https://ss3.4sqi.net/img/categories_v2/food/coffeeshop_",
            "suffix": ".png"
           },
           "id": "4bf58dd8d48988d1e0931735",
           "name": "Coffee Shop",
           "pluralName": "Coffee Shops",
           "primary": true,
           "shortName": "Coffee Shop"
          }
         ],
         "hasPerk": false,
         "id": "5e498dec7260f80008cdc742",
         "location": {
          "address": "920 Yonge",
          "cc": "CA",
          "city": "Toronto",
          "country": "Canada",
          "distance": 501,
          "formattedAddress": [
           "920 Yonge",
           "Toronto ON M4W 2J2",
           "Canada"
          ],
          "labeledLatLngs": [
           {
            "label": "display",
            "lat": 43.6743,
            "lng": -79.388597
           }
          ],
          "lat": 43.6743,
          "lng": -79.388597,
          "postalCode": "M4W 2J2",
          "state": "ON"
         },
         "name": "Coffee Lunar",
         "referralId": "v-1622844916"
        },
        {
         "categories": [
          {
           "icon": {
            "prefix": "https://ss3.4sqi.net/img/categories_v2/arts_entertainment/musicvenue_",
            "suffix": ".png"
           },
           "id": "4bf58dd8d48988d1e5931735",
           "name": "Music Venue",
           "pluralName": "Music Venues",
           "primary": true,
           "shortName": "Music Venue"
          }
         ],
         "hasPerk": false,
         "id": "4ae60404f964a52014a421e3",
         "location": {
          "address": "888 Yonge St.",
          "cc": "CA",
          "city": "Toronto",
          "country": "Canada",
          "crossStreet": "Davenport Rd.",
          "distance": 390,
          "formattedAddress": [
           "888 Yonge St. (Davenport Rd.)",
           "Toronto ON M4J 2J2",
           "Canada"
          ],
          "labeledLatLngs": [
           {
            "label": "display",
            "lat": 43.67285305926192,
            "lng": -79.38804348377657
           }
          ],
          "lat": 43.67285305926192,
          "lng": -79.38804348377657,
          "postalCode": "M4J 2J2",
          "state": "ON"
         },
         "name": "MTV Canada",
         "referralId": "v-1622844916"
        },
        {
         "categories": [
          {
           "icon": {
            "prefix": "https://ss3.4sqi.net/img/categories_v2/food/coffeeshop_",
            "suffix": ".png"
           },
           "id": "4bf58dd8d48988d1e0931735",
           "name": "Coffee Shop",
           "pluralName": "Coffee Shops",
           "primary": true,
           "shortName": "Coffee Shop"
          }
         ],
         "hasPerk": false,
         "id": "5d8a386a5f85bb0008a3efb5",
         "location": {
          "address": "55 Bloor Street West",
          "cc": "CA",
          "city": "Toronto",
          "country": "Canada",
          "crossStreet": "Bay St",
          "distance": 280,
          "formattedAddress": [
           "55 Bloor Street West (Bay St)",
           "Toronto ON",
           "Canada"
          ],
          "labeledLatLngs": [
           {
            "label": "display",
            "lat": 43.66941,
            "lng": -79.38798
           }
          ],
          "lat": 43.66941,
          "lng": -79.38798,
          "neighborhood": "Yorkville",
          "state": "ON"
         },
         "name": "Pilot Coffee Roasters",
         "referralId": "v-1622844916"
        },
        {
         "categories": [
          {
           "icon": {
            "prefix": "https://ss3.4sqi.net/img/categories_v2/food/coffeeshop_",
            "suffix": ".png"
           },
           "id": "4bf58dd8d48988d1e0931735",
           "name": "Coffee Shop",
           "pluralName": "Coffee Shops",
           "primary": true,
           "shortName": "Coffee Shop"
          }
         ],
         "hasPerk": false,
         "id": "58cedcf92f91cb28ec42bc6c",
         "location": {
          "address": "2 Bloor St E",
          "cc": "CA",
          "city": "Toronto",
          "country": "Canada",
          "distance": 529,
          "formattedAddress": [
           "2 Bloor St E",
           "Toronto ON M4W 1A8",
           "Canada"
          ],
          "labeledLatLngs": [
           {
            "label": "display",
            "lat": 43.6712632,
            "lng": -79.3848459
           }
          ],
          "lat": 43.6712632,
          "lng": -79.3848459,
          "neighborhood": "Rosedale",
          "postalCode": "M4W 1A8",
          "state": "ON"
         },
         "name": "Tim Hortons",
         "referralId": "v-1622844916"
        },
        {
         "categories": [
          {
           "icon": {
            "prefix": "https://ss3.4sqi.net/img/categories_v2/arts_entertainment/museum_history_",
            "suffix": ".png"
           },
           "id": "4bf58dd8d48988d190941735",
           "name": "History Museum",
           "pluralName": "History Museums",
           "primary": true,
           "shortName": "History Museum"
          }
         ],
         "hasPerk": false,
         "id": "5c195b4d60d11b002c4fc48b",
         "location": {
          "address": "100 Queen’s Park",
          "cc": "CA",
          "city": "Toronto",
          "country": "Canada",
          "distance": 421,
          "formattedAddress": [
           "100 Queen’s Park",
           "Toronto ON M5S 2C6",
           "Canada"
          ],
          "labeledLatLngs": [
           {
            "label": "display",
            "lat": 43.667782,
            "lng": -79.395264
           }
          ],
          "lat": 43.667782,
          "lng": -79.395264,
          "postalCode": "M5S 2C6",
          "state": "ON"
         },
         "name": "ROM Egypt Gallery",
         "referralId": "v-1622844916"
        },
        {
         "categories": [
          {
           "icon": {
            "prefix": "https://ss3.4sqi.net/img/categories_v2/food/coffeeshop_",
            "suffix": ".png"
           },
           "id": "4bf58dd8d48988d1e0931735",
           "name": "Coffee Shop",
           "pluralName": "Coffee Shops",
           "primary": true,
           "shortName": "Coffee Shop"
          }
         ],
         "hasPerk": false,
         "id": "5db70a0c306d6b000861ac9f",
         "location": {
          "address": "770 Bay Street Unit 3",
          "cc": "CA",
          "city": "Toronto",
          "country": "Canada",
          "distance": 1206,
          "formattedAddress": [
           "770 Bay Street Unit 3",
           "Toronto ON M5G 0A6",
           "Canada"
          ],
          "labeledLatLngs": [
           {
            "label": "display",
            "lat": 43.66013,
            "lng": -79.38583
           }
          ],
          "lat": 43.66013,
          "lng": -79.38583,
          "postalCode": "M5G 0A6",
          "state": "ON"
         },
         "name": "NEO COFFEE BAR",
         "referralId": "v-1622844916"
        },
        {
         "categories": [
          {
           "icon": {
            "prefix": "https://ss3.4sqi.net/img/categories_v2/food/coffeeshop_",
            "suffix": ".png"
           },
           "id": "4bf58dd8d48988d1e0931735",
           "name": "Coffee Shop",
           "pluralName": "Coffee Shops",
           "primary": true,
           "shortName": "Coffee Shop"
          }
         ],
         "hasPerk": false,
         "id": "4aedf558f964a520a5d021e3",
         "location": {
          "address": "750 Spadina Avenue, Unit #5",
          "cc": "CA",
          "city": "Toronto",
          "country": "Canada",
          "crossStreet": "at Spadina Rd",
          "distance": 1108,
          "formattedAddress": [
           "750 Spadina Avenue, Unit #5 (at Spadina Rd)",
           "Toronto ON M5S 2J2",
           "Canada"
          ],
          "labeledLatLngs": [
           {
            "label": "display",
            "lat": 43.66641372619874,
            "lng": -79.40399105911047
           }
          ],
          "lat": 43.66641372619874,
          "lng": -79.40399105911047,
          "postalCode": "M5S 2J2",
          "state": "ON"
         },
         "name": "Second Cup",
         "referralId": "v-1622844916"
        },
        {
         "categories": [
          {
           "icon": {
            "prefix": "https://ss3.4sqi.net/img/categories_v2/arts_entertainment/artgallery_",
            "suffix": ".png"
           },
           "id": "4bf58dd8d48988d1e2931735",
           "name": "Art Gallery",
           "pluralName": "Art Galleries",
           "primary": true,
           "shortName": "Art Gallery"
          }
         ],
         "hasPerk": false,
         "id": "577d2d29498e38fdee8cf395",
         "location": {
          "address": "789 Yonge St, Main floor",
          "cc": "CA",
          "city": "Toronto",
          "country": "Canada",
          "crossStreet": "Yonge & Bloor",
          "distance": 382,
          "formattedAddress": [
           "789 Yonge St, Main floor (Yonge & Bloor)",
           "Toronto ON M4W 2G8",
           "Canada"
          ],
          "labeledLatLngs": [
           {
            "label": "display",
            "lat": 43.671658,
            "lng": -79.386952
           }
          ],
          "lat": 43.671658,
          "lng": -79.386952,
          "postalCode": "M4W 2G8",
          "state": "ON"
         },
         "name": "TD Gallery at the Toronto Reference Library",
         "referralId": "v-1622844916",
         "venuePage": {
          "id": "487677283"
         }
        },
        {
         "categories": [
          {
           "icon": {
            "prefix": "https://ss3.4sqi.net/img/categories_v2/food/coffeeshop_",
            "suffix": ".png"
           },
           "id": "4bf58dd8d48988d1e0931735",
           "name": "Coffee Shop",
           "pluralName": "Coffee Shops",
           "primary": true,
           "shortName": "Coffee Shop"
          }
         ],
         "hasPerk": false,
         "id": "4e868e1bd5fb2ee2eede857c",
         "location": {
          "address": "37 Grosvenor St",
          "cc": "CA",
          "city": "Toronto",
          "country": "Canada",
          "crossStreet": "at Bay St",
          "distance": 970,
          "formattedAddress": [
           "37 Grosvenor St (at Bay St)",
           "Toronto ON M4Y 3G5",
           "Canada"
          ],
          "labeledLatLngs": [
           {
            "label": "display",
            "lat": 43.662407,
            "lng": -79.385943
           }
          ],
          "lat": 43.662407,
          "lng": -79.385943,
          "postalCode": "M4Y 3G5",
          "state": "ON"
         },
         "name": "Starbucks",
         "referralId": "v-1622844916"
        },
        {
         "categories": [
          {
           "icon": {
            "prefix": "https://ss3.4sqi.net/img/categories_v2/food/coffeeshop_",
            "suffix": ".png"
           },
           "id": "4bf58dd8d48988d1e0931735",
           "name": "Coffee Shop",
           "pluralName": "Coffee Shops",
           "primary": true,
           "shortName": "Coffee Shop"
          }
         ],
         "hasPerk": false,
         "id": "524c6ea511d207bb0817c28e",
         "location": {
          "address": "159 Cumberland St.",
          "cc": "CA",
          "city": "Toronto",
          "country": "Canada",
          "crossStreet": "at Avenue Rd.",
          "distance": 172,
          "formattedAddress": [
           "159 Cumberland St. (at Avenue Rd.)",
           "Toronto ON M5R 1A2",
           "Canada"
          ],
          "labeledLatLngs": [
           {
            "label": "display",
            "lat": 43.66988316570838,
            "lng": -79.39335858121262
           }
          ],
          "lat": 43.66988316570838,
          "lng": -79.39335858121262,
          "postalCode": "M5R 1A2",
          "state": "ON"
         },
         "name": "Nespresso Boutique - Bar",
         "referralId": "v-1622844916"
        },
        {
         "categories": [
          {
           "icon": {
            "prefix": "https://ss3.4sqi.net/img/categories_v2/food/coffeeshop_",
            "suffix": ".png"
           },
           "id": "4bf58dd8d48988d1e0931735",
           "name": "Coffee Shop",
           "pluralName": "Coffee Shops",
           "primary": true,
           "shortName": "Coffee Shop"
          }
         ],
         "hasPerk": false,
         "id": "569d0558498e43ea7529e74c",
         "location": {
          "address": "419 Bloor Street East",
          "cc": "CA",
          "city": "Toronto",
          "country": "Canada",
          "crossStreet": "Sherbourne & Bloor",
          "distance": 1331,
          "formattedAddress": [
           "419 Bloor Street East (Sherbourne & Bloor)",
           "Toronto ON M4W 1H7",
           "Canada"
          ],
          "labeledLatLngs": [
           {
            "label": "display",
            "lat": 43.66782,
            "lng": -79.375075
           }
          ],
          "lat": 43.66782,
          "lng": -79.375075,
          "postalCode": "M4W 1H7",
          "state": "ON"
         },
         "name": "Tim Hortons",
         "referralId": "v-1622844916"
        },
        {
         "categories": [
          {
           "icon": {
            "prefix": "https://ss3.4sqi.net/img/categories_v2/food/tearoom_",
            "suffix": ".png"
           },
           "id": "4bf58dd8d48988d1dc931735",
           "name": "Tea Room",
           "pluralName": "Tea Rooms",
           "primary": true,
           "shortName": "Tea Room"
          }
         ],
         "hasPerk": false,
         "id": "5ba6a28a018cbb003999397a",
         "location": {
          "address": "20 Carlton Street",
          "cc": "CA",
          "city": "Toronto",
          "country": "Canada",
          "distance": 1274,
          "formattedAddress": [
           "20 Carlton Street",
           "Toronto ON M5B 2E9",
           "Canada"
          ],
          "labeledLatLngs": [
           {
            "label": "display",
            "lat": 43.661371,
            "lng": -79.381239
           }
          ],
          "lat": 43.661371,
          "lng": -79.381239,
          "postalCode": "M5B 2E9",
          "state": "ON"
         },
         "name": "Cuppa Tea",
         "referralId": "v-1622844916"
        },
        {
         "categories": [
          {
           "icon": {
            "prefix": "https://ss3.4sqi.net/img/categories_v2/food/coffeeshop_",
            "suffix": ".png"
           },
           "id": "4bf58dd8d48988d1e0931735",
           "name": "Coffee Shop",
           "pluralName": "Coffee Shops",
           "primary": true,
           "shortName": "Coffee Shop"
          }
         ],
         "hasPerk": false,
         "id": "5e960997dca3340008e20f31",
         "location": {
          "cc": "CA",
          "city": "Toronto",
          "country": "Canada",
          "distance": 1356,
          "formattedAddress": [
           "Toronto ON M5G 2J8",
           "Canada"
          ],
          "labeledLatLngs": [
           {
            "label": "display",
            "lat": 43.658948,
            "lng": -79.384896
           }
          ],
          "lat": 43.658948,
          "lng": -79.384896,
          "postalCode": "M5G 2J8",
          "state": "ON"
         },
         "name": "White Rabbit",
         "referralId": "v-1622844916"
        },
        {
         "categories": [
          {
           "icon": {
            "prefix": "https://ss3.4sqi.net/img/categories_v2/food/coffeeshop_",
            "suffix": ".png"
           },
           "id": "4bf58dd8d48988d1e0931735",
           "name": "Coffee Shop",
           "pluralName": "Coffee Shops",
           "primary": true,
           "shortName": "Coffee Shop"
          }
         ],
         "hasPerk": false,
         "id": "5fe9ff026bbd8718ba7b0fa0",
         "location": {
          "cc": "CA",
          "city": "Toronto",
          "country": "Canada",
          "distance": 796,
          "formattedAddress": [
           "Toronto ON M5R 2J3",
           "Canada"
          ],
          "labeledLatLngs": [
           {
            "label": "display",
            "lat": 43.67606,
            "lng": -79.396996
           }
          ],
          "lat": 43.67606,
          "lng": -79.396996,
          "postalCode": "M5R 2J3",
          "state": "ON"
         },
         "name": "211 Coffee House",
         "referralId": "v-1622844916"
        },
        {
         "categories": [
          {
           "icon": {
            "prefix": "https://ss3.4sqi.net/img/categories_v2/food/coffeeshop_",
            "suffix": ".png"
           },
           "id": "4bf58dd8d48988d1e0931735",
           "name": "Coffee Shop",
           "pluralName": "Coffee Shops",
           "primary": true,
           "shortName": "Coffee Shop"
          }
         ],
         "hasPerk": false,
         "id": "590a649bdee77071100a6a15",
         "location": {
          "address": "925 Bay street",
          "cc": "CA",
          "city": "Toronto",
          "country": "Canada",
          "distance": 748,
          "formattedAddress": [
           "925 Bay street",
           "Toronto ON M5S 3L6",
           "Canada"
          ],
          "labeledLatLngs": [
           {
            "label": "display",
            "lat": 43.66427089680226,
            "lng": -79.38697157138014
           }
          ],
          "lat": 43.66427089680226,
          "lng": -79.38697157138014,
          "postalCode": "M5S 3L6",
          "state": "ON"
         },
         "name": "Coffee Island",
         "referralId": "v-1622844916"
        },
        {
         "categories": [
          {
           "icon": {
            "prefix": "https://ss3.4sqi.net/img/categories_v2/food/cafe_",
            "suffix": ".png"
           },
           "id": "4bf58dd8d48988d16d941735",
           "name": "Café",
           "pluralName": "Cafés",
           "primary": true,
           "shortName": "Café"
          }
         ],
         "hasPerk": false,
         "id": "5d0d09cf8be3b00023ee55b1",
         "location": {
          "cc": "CA",
          "city": "Toronto",
          "country": "Canada",
          "distance": 1332,
          "formattedAddress": [
           "Toronto ON M4T 1W3",
           "Canada"
          ],
          "labeledLatLngs": [
           {
            "label": "display",
            "lat": 43.68219,
            "lng": -79.39184
           }
          ],
          "lat": 43.68219,
          "lng": -79.39184,
          "postalCode": "M4T 1W3",
          "state": "ON"
         },
         "name": "Impact Cafe",
         "referralId": "v-1622844916"
        },
        {
         "categories": [
          {
           "icon": {
            "prefix": "https://ss3.4sqi.net/img/categories_v2/food/coffeeshop_",
            "suffix": ".png"
           },
           "id": "4bf58dd8d48988d1e0931735",
           "name": "Coffee Shop",
           "pluralName": "Coffee Shops",
           "primary": true,
           "shortName": "Coffee Shop"
          }
         ],
         "hasPerk": false,
         "id": "4b684b61f964a52012702be3",
         "location": {
          "address": "15 King's College Circle",
          "cc": "CA",
          "city": "Toronto",
          "country": "Canada",
          "crossStreet": "University College",
          "distance": 893,
          "formattedAddress": [
           "15 King's College Circle (University College)",
           "Toronto ON M5S 3H7",
           "Canada"
          ],
          "labeledLatLngs": [
           {
            "label": "display",
            "lat": 43.663121842458715,
            "lng": -79.39641237258911
           }
          ],
          "lat": 43.663121842458715,
          "lng": -79.39641237258911,
          "postalCode": "M5S 3H7",
          "state": "ON"
         },
         "name": "Diabolos'",
         "referralId": "v-1622844916"
        },
        {
         "categories": [
          {
           "icon": {
            "prefix": "https://ss3.4sqi.net/img/categories_v2/food/coffeeshop_",
            "suffix": ".png"
           },
           "id": "4bf58dd8d48988d1e0931735",
           "name": "Coffee Shop",
           "pluralName": "Coffee Shops",
           "primary": true,
           "shortName": "Coffee Shop"
          }
         ],
         "hasPerk": false,
         "id": "4b9e7451f964a52044e536e3",
         "location": {
          "address": "100 St. George St.",
          "cc": "CA",
          "city": "Toronto",
          "country": "Canada",
          "crossStreet": "at Willcocks St.",
          "distance": 1022,
          "formattedAddress": [
           "100 St. George St. (at Willcocks St.)",
           "Toronto ON",
           "Canada"
          ],
          "labeledLatLngs": [
           {
            "label": "display",
            "lat": 43.66267187452542,
            "lng": -79.39848816597433
           }
          ],
          "lat": 43.66267187452542,
          "lng": -79.39848816597433,
          "state": "ON"
         },
         "name": "Second Cup",
         "referralId": "v-1622844916"
        },
        {
         "categories": [
          {
           "icon": {
            "prefix": "https://ss3.4sqi.net/img/categories_v2/arts_entertainment/museum_history_",
            "suffix": ".png"
           },
           "id": "4bf58dd8d48988d190941735",
           "name": "History Museum",
           "pluralName": "History Museums",
           "primary": true,
           "shortName": "History Museum"
          }
         ],
         "hasPerk": false,
         "id": "4ad4c05ef964a520dcf620e3",
         "location": {
          "address": "40 College St",
          "cc": "CA",
          "city": "Toronto",
          "country": "Canada",
          "crossStreet": "in Toronto Police Headquarters",
          "distance": 1136,
          "formattedAddress": [
           "40 College St (in Toronto Police Headquarters)",
           "Toronto ON M5G 2J3",
           "Canada"
          ],
          "labeledLatLngs": [
           {
            "label": "display",
            "lat": 43.66118880223964,
            "lng": -79.38470280694756
           }
          ],
          "lat": 43.66118880223964,
          "lng": -79.38470280694756,
          "postalCode": "M5G 2J3",
          "state": "ON"
         },
         "name": "Toronto Police Museum",
         "referralId": "v-1622844916"
        },
        {
         "categories": [
          {
           "icon": {
            "prefix": "https://ss3.4sqi.net/img/categories_v2/food/coffeeshop_",
            "suffix": ".png"
           },
           "id": "4bf58dd8d48988d1e0931735",
           "name": "Coffee Shop",
           "pluralName": "Coffee Shops",
           "primary": true,
           "shortName": "Coffee Shop"
          }
         ],
         "hasPerk": false,
         "id": "4ad88b02f964a5202c1221e3",
         "location": {
          "address": "2 Bloor Street East, C3",
          "cc": "CA",
          "city": "Toronto",
          "country": "Canada",
          "distance": 402,
          "formattedAddress": [
           "2 Bloor Street East, C3",
           "Toronto ON M4W 1A8",
           "Canada"
          ],
          "labeledLatLngs": [
           {
            "label": "display",
            "lat": 43.67062,
            "lng": -79.386304
           }
          ],
          "lat": 43.67062,
          "lng": -79.386304,
          "postalCode": "M4W 1A8",
          "state": "ON"
         },
         "name": "Starbucks",
         "referralId": "v-1622844916"
        },
        {
         "categories": [
          {
           "icon": {
            "prefix": "https://ss3.4sqi.net/img/categories_v2/food/coffeeshop_",
            "suffix": ".png"
           },
           "id": "4bf58dd8d48988d1e0931735",
           "name": "Coffee Shop",
           "pluralName": "Coffee Shops",
           "primary": true,
           "shortName": "Coffee Shop"
          }
         ],
         "hasPerk": false,
         "id": "4ae52541f964a5206aa021e3",
         "location": {
          "address": "1088 Yonge St",
          "cc": "CA",
          "city": "Toronto",
          "country": "Canada",
          "crossStreet": "at Roxborough St",
          "distance": 871,
          "formattedAddress": [
           "1088 Yonge St (at Roxborough St)",
           "Toronto ON M4W 2L4",
           "Canada"
          ],
          "labeledLatLngs": [
           {
            "label": "display",
            "lat": 43.67802,
            "lng": -79.39024
           }
          ],
          "lat": 43.67802,
          "lng": -79.39024,
          "postalCode": "M4W 2L4",
          "state": "ON"
         },
         "name": "Starbucks",
         "referralId": "v-1622844916"
        },
        {
         "categories": [
          {
           "icon": {
            "prefix": "https://ss3.4sqi.net/img/categories_v2/food/coffeeshop_",
            "suffix": ".png"
           },
           "id": "4bf58dd8d48988d1e0931735",
           "name": "Coffee Shop",
           "pluralName": "Coffee Shops",
           "primary": true,
           "shortName": "Coffee Shop"
          }
         ],
         "hasPerk": false,
         "id": "4bd98ddb0115c9b682ab7780",
         "location": {
          "address": "419 Bloor St East",
          "cc": "CA",
          "city": "Toronto",
          "country": "Canada",
          "crossStreet": "at Sherbourne St.",
          "distance": 1169,
          "formattedAddress": [
           "419 Bloor St East (at Sherbourne St.)",
           "Toronto ON M4W 1H7",
           "Canada"
          ],
          "labeledLatLngs": [
           {
            "label": "display",
            "lat": 43.67215539191757,
            "lng": -79.37699317932129
           }
          ],
          "lat": 43.67215539191757,
          "lng": -79.37699317932129,
          "postalCode": "M4W 1H7",
          "state": "ON"
         },
         "name": "Tim Hortons",
         "referralId": "v-1622844916"
        },
        {
         "categories": [
          {
           "icon": {
            "prefix": "https://ss3.4sqi.net/img/categories_v2/food/coffeeshop_",
            "suffix": ".png"
           },
           "id": "4bf58dd8d48988d1e0931735",
           "name": "Coffee Shop",
           "pluralName": "Coffee Shops",
           "primary": true,
           "shortName": "Coffee Shop"
          }
         ],
         "hasPerk": false,
         "id": "4ad8888ff964a520141221e3",
         "location": {
          "address": "485 Church St",
          "cc": "CA",
          "city": "Toronto",
          "country": "Canada",
          "crossStreet": "at Maitland St.",
          "distance": 1044,
          "formattedAddress": [
           "485 Church St (at Maitland St.)",
           "Toronto ON M4Y 2C6",
           "Canada"
          ],
          "labeledLatLngs": [
           {
            "label": "display",
            "lat": 43.66498,
            "lng": -79.38051
           }
          ],
          "lat": 43.66498,
          "lng": -79.38051,
          "postalCode": "M4Y 2C6",
          "state": "ON"
         },
         "name": "Starbucks",
         "referralId": "v-1622844916"
        },
        {
         "categories": [
          {
           "icon": {
            "prefix": "https://ss3.4sqi.net/img/categories_v2/food/coffeeshop_",
            "suffix": ".png"
           },
           "id": "4bf58dd8d48988d1e0931735",
           "name": "Coffee Shop",
           "pluralName": "Coffee Shops",
           "primary": true,
           "shortName": "Coffee Shop"
          }
         ],
         "hasPerk": false,
         "id": "4e84e4017beb5b5d350e3e40",
         "location": {
          "address": "1 Beford Ave, One Bedford Condominium",
          "cc": "CA",
          "city": "Toronto",
          "country": "Canada",
          "crossStreet": "at Bloor St. W",
          "distance": 524,
          "formattedAddress": [
           "1 Beford Ave, One Bedford Condominium (at Bloor St. W)",
           "Toronto ON M5R 2J7",
           "Canada"
          ],
          "labeledLatLngs": [
           {
            "label": "display",
            "lat": 43.668615,
            "lng": -79.397387
           }
          ],
          "lat": 43.668615,
          "lng": -79.397387,
          "postalCode": "M5R 2J7",
          "state": "ON"
         },
         "name": "Starbucks",
         "referralId": "v-1622844916"
        },
        {
         "categories": [
          {
           "icon": {
            "prefix": "https://ss3.4sqi.net/img/categories_v2/food/soup_",
            "suffix": ".png"
           },
           "id": "4bf58dd8d48988d1dd931735",
           "name": "Soup Place",
           "pluralName": "Soup Places",
           "primary": true,
           "shortName": "Soup"
          }
         ],
         "hasPerk": false,
         "id": "5452665f498e175ca17e92b4",
         "location": {
          "address": "9 Charles St. W",
          "cc": "CA",
          "city": "Toronto",
          "country": "Canada",
          "crossStreet": "at Yonge St.",
          "distance": 398,
          "formattedAddress": [
           "9 Charles St. W (at Yonge St.)",
           "Toronto ON M4Y 1R4",
           "Canada"
          ],
          "labeledLatLngs": [
           {
            "label": "display",
            "lat": 43.66864505311377,
            "lng": -79.3868326645617
           }
          ],
          "lat": 43.66864505311377,
          "lng": -79.3868326645617,
          "postalCode": "M4Y 1R4",
          "state": "ON"
         },
         "name": "RaviSoups",
         "referralId": "v-1622844916"
        },
        {
         "categories": [
          {
           "icon": {
            "prefix": "https://ss3.4sqi.net/img/categories_v2/food/coffeeshop_",
            "suffix": ".png"
           },
           "id": "4bf58dd8d48988d1e0931735",
           "name": "Coffee Shop",
           "pluralName": "Coffee Shops",
           "primary": true,
           "shortName": "Coffee Shop"
          }
         ],
         "hasPerk": false,
         "id": "4ae3223af964a520c89021e3",
         "location": {
          "address": "8 Wellesley St E, #5",
          "cc": "CA",
          "city": "Toronto",
          "country": "Canada",
          "crossStreet": "at Yonge St.",
          "distance": 787,
          "formattedAddress": [
           "8 Wellesley St E, #5 (at Yonge St.)",
           "Toronto ON M4Y 1G2",
           "Canada"
          ],
          "labeledLatLngs": [
           {
            "label": "display",
            "lat": 43.665207,
            "lng": -79.384372
           }
          ],
          "lat": 43.665207,
          "lng": -79.384372,
          "postalCode": "M4Y 1G2",
          "state": "ON"
         },
         "name": "Starbucks",
         "referralId": "v-1622844916"
        },
        {
         "categories": [
          {
           "icon": {
            "prefix": "https://ss3.4sqi.net/img/categories_v2/food/coffeeshop_",
            "suffix": ".png"
           },
           "id": "4bf58dd8d48988d1e0931735",
           "name": "Coffee Shop",
           "pluralName": "Coffee Shops",
           "primary": true,
           "shortName": "Coffee Shop"
          }
         ],
         "hasPerk": false,
         "id": "57bee570498e009b84719d5e",
         "location": {
          "address": "25 Carlton St",
          "cc": "CA",
          "city": "Toronto",
          "country": "Canada",
          "distance": 1256,
          "formattedAddress": [
           "25 Carlton St",
           "Toronto ON M5B 1L4",
           "Canada"
          ],
          "labeledLatLngs": [
           {
            "label": "display",
            "lat": 43.66143582514135,
            "lng": -79.3814931962942
           }
          ],
          "lat": 43.66143582514135,
          "lng": -79.3814931962942,
          "neighborhood": "Yonge and College",
          "postalCode": "M5B 1L4",
          "state": "ON"
         },
         "name": "Black Bear Espresso",
         "referralId": "v-1622844916"
        },
        {
         "categories": [
          {
           "icon": {
            "prefix": "https://ss3.4sqi.net/img/categories_v2/food/cafe_",
            "suffix": ".png"
           },
           "id": "4bf58dd8d48988d16d941735",
           "name": "Café",
           "pluralName": "Cafés",
           "primary": true,
           "shortName": "Café"
          }
         ],
         "hasPerk": false,
         "id": "4b632a63f964a520b2672ae3",
         "location": {
          "address": "20 Bloor St E, A&W - Manulife Building",
          "cc": "CA",
          "city": "Toronto",
          "country": "Canada",
          "distance": 374,
          "formattedAddress": [
           "20 Bloor St E, A&W - Manulife Building",
           "Toronto ON M4W 1A8",
           "Canada"
          ],
          "labeledLatLngs": [
           {
            "label": "display",
            "lat": 43.670892,
            "lng": -79.386708
           }
          ],
          "lat": 43.670892,
          "lng": -79.386708,
          "postalCode": "M4W 1A8",
          "state": "ON"
         },
         "name": "Country Style",
         "referralId": "v-1622844916"
        },
        {
         "categories": [
          {
           "icon": {
            "prefix": "https://ss3.4sqi.net/img/categories_v2/arts_entertainment/museum_",
            "suffix": ".png"
           },
           "id": "4bf58dd8d48988d181941735",
           "name": "Museum",
           "pluralName": "Museums",
           "primary": true,
           "shortName": "Museum"
          }
         ],
         "hasPerk": false,
         "id": "4d10f083e236548148de7aea",
         "location": {
          "address": "100 Queen's Park",
          "cc": "CA",
          "city": "Toronto",
          "country": "Canada",
          "crossStreet": "Bloor",
          "distance": 472,
          "formattedAddress": [
           "100 Queen's Park (Bloor)",
           "Toronto ON M5S 2C6",
           "Canada"
          ],
          "labeledLatLngs": [
           {
            "label": "display",
            "lat": 43.66748,
            "lng": -79.395734
           }
          ],
          "lat": 43.66748,
          "lng": -79.395734,
          "postalCode": "M5S 2C6",
          "state": "ON"
         },
         "name": "John David & Signy Eaton Court",
         "referralId": "v-1622844916"
        },
        {
         "categories": [
          {
           "icon": {
            "prefix": "https://ss3.4sqi.net/img/categories_v2/food/coffeeshop_",
            "suffix": ".png"
           },
           "id": "4bf58dd8d48988d1e0931735",
           "name": "Coffee Shop",
           "pluralName": "Coffee Shops",
           "primary": true,
           "shortName": "Coffee Shop"
          }
         ],
         "hasPerk": false,
         "id": "576d30ed498ef2e95e26e6d0",
         "location": {
          "address": "101 College St",
          "cc": "CA",
          "city": "Toronto",
          "country": "Canada",
          "crossStreet": "University Ave",
          "distance": 1201,
          "formattedAddress": [
           "101 College St (University Ave)",
           "Toronto ON M5G 1L7",
           "Canada"
          ],
          "labeledLatLngs": [
           {
            "label": "display",
            "lat": 43.65945605353152,
            "lng": -79.39041123272168
           }
          ],
          "lat": 43.65945605353152,
          "lng": -79.39041123272168,
          "postalCode": "M5G 1L7",
          "state": "ON"
         },
         "name": "Starbucks",
         "referralId": "v-1622844916"
        },
        {
         "categories": [
          {
           "icon": {
            "prefix": "https://ss3.4sqi.net/img/categories_v2/food/coffeeshop_",
            "suffix": ".png"
           },
           "id": "4bf58dd8d48988d1e0931735",
           "name": "Coffee Shop",
           "pluralName": "Coffee Shops",
           "primary": true,
           "shortName": "Coffee Shop"
          }
         ],
         "hasPerk": false,
         "id": "569e7814498e1a7f3e01bfe4",
         "location": {
          "address": "568 Jarvis St",
          "cc": "CA",
          "city": "Toronto",
          "country": "Canada",
          "crossStreet": "At Charles St E",
          "distance": 919,
          "formattedAddress": [
           "568 Jarvis St (At Charles St E)",
           "Toronto ON M4Y 1N6",
           "Canada"
          ],
          "labeledLatLngs": [
           {
            "label": "display",
            "lat": 43.66965378571954,
            "lng": -79.379870566686
           }
          ],
          "lat": 43.66965378571954,
          "lng": -79.379870566686,
          "postalCode": "M4Y 1N6",
          "state": "ON"
         },
         "name": "Rooster Coffee House",
         "referralId": "v-1622844916"
        },
        {
         "categories": [
          {
           "icon": {
            "prefix": "https://ss3.4sqi.net/img/categories_v2/arts_entertainment/musicvenue_",
            "suffix": ".png"
           },
           "id": "4bf58dd8d48988d1e5931735",
           "name": "Music Venue",
           "pluralName": "Music Venues",
           "primary": true,
           "shortName": "Music Venue"
          }
         ],
         "hasPerk": false,
         "id": "4f8e0cfae4b01e2e189df92a",
         "location": {
          "address": "10 King's College Rd - B740",
          "cc": "CA",
          "city": "Toronto",
          "country": "Canada",
          "crossStreet": "Sandford Fleming Building",
          "distance": 1158,
          "formattedAddress": [
           "10 King's College Rd - B740 (Sandford Fleming Building)",
           "Toronto ON M5S 3G4",
           "Canada"
          ],
          "labeledLatLngs": [
           {
            "label": "display",
            "lat": 43.66013045686313,
            "lng": -79.394731931759
           }
          ],
          "lat": 43.66013045686313,
          "lng": -79.394731931759,
          "postalCode": "M5S 3G4",
          "state": "ON"
         },
         "name": "The Bnad Room",
         "referralId": "v-1622844916"
        },
        {
         "categories": [
          {
           "icon": {
            "prefix": "https://ss3.4sqi.net/img/categories_v2/arts_entertainment/museum_history_",
            "suffix": ".png"
           },
           "id": "4bf58dd8d48988d190941735",
           "name": "History Museum",
           "pluralName": "History Museums",
           "primary": true,
           "shortName": "History Museum"
          }
         ],
         "hasPerk": false,
         "id": "5b6c87f335811b002c2f41e2",
         "location": {
          "address": "University",
          "cc": "CA",
          "city": "Toronto",
          "country": "Canada",
          "crossStreet": "Bloor",
          "distance": 422,
          "formattedAddress": [
           "University (Bloor)",
           "Toronto ON M5S 2C6",
           "Canada"
          ],
          "labeledLatLngs": [
           {
            "label": "display",
            "lat": 43.667777,
            "lng": -79.395274
           }
          ],
          "lat": 43.667777,
          "lng": -79.395274,
          "postalCode": "M5S 2C6",
          "state": "ON"
         },
         "name": "Patrick And Barbara Keenan Family Gallery",
         "referralId": "v-1622844916"
        },
        {
         "categories": [
          {
           "icon": {
            "prefix": "https://ss3.4sqi.net/img/categories_v2/food/coffeeshop_",
            "suffix": ".png"
           },
           "id": "4bf58dd8d48988d1e0931735",
           "name": "Coffee Shop",
           "pluralName": "Coffee Shops",
           "primary": true,
           "shortName": "Coffee Shop"
          }
         ],
         "hasPerk": false,
         "id": "4e6d2f65aeb724891fbfbf76",
         "location": {
          "cc": "CA",
          "city": "Toronto",
          "country": "Canada",
          "distance": 801,
          "formattedAddress": [
           "Toronto ON",
           "Canada"
          ],
          "labeledLatLngs": [
           {
            "label": "display",
            "lat": 43.66494105091535,
            "lng": -79.38450425856912
           }
          ],
          "lat": 43.66494105091535,
          "lng": -79.38450425856912,
          "state": "ON"
         },
         "name": "Second Cup (St. Joseph)",
         "referralId": "v-1622844916"
        },
        {
         "categories": [
          {
           "icon": {
            "prefix": "https://ss3.4sqi.net/img/categories_v2/food/coffeeshop_",
            "suffix": ".png"
           },
           "id": "4bf58dd8d48988d1e0931735",
           "name": "Coffee Shop",
           "pluralName": "Coffee Shops",
           "primary": true,
           "shortName": "Coffee Shop"
          }
         ],
         "hasPerk": false,
         "id": "4edf7d66f9aba0b1028d3ead",
         "location": {
          "address": "111 Wellesley St W, University of Toronto",
          "cc": "CA",
          "city": "Toronto",
          "country": "Canada",
          "distance": 888,
          "formattedAddress": [
           "111 Wellesley St W, University of Toronto",
           "Toronto ON",
           "Canada"
          ],
          "labeledLatLngs": [
           {
            "label": "display",
            "lat": 43.66224835926275,
            "lng": -79.39140433019492
           }
          ],
          "lat": 43.66224835926275,
          "lng": -79.39140433019492,
          "state": "ON"
         },
         "name": "Tim Hortons",
         "referralId": "v-1622844916"
        },
        {
         "categories": [
          {
           "icon": {
            "prefix": "https://ss3.4sqi.net/img/categories_v2/food/coffeeshop_",
            "suffix": ".png"
           },
           "id": "4bf58dd8d48988d1e0931735",
           "name": "Coffee Shop",
           "pluralName": "Coffee Shops",
           "primary": true,
           "shortName": "Coffee Shop"
          }
         ],
         "hasPerk": false,
         "id": "4b9e7bbdf964a520e9e736e3",
         "location": {
          "address": "800 Bay St",
          "cc": "CA",
          "city": "Toronto",
          "country": "Canada",
          "crossStreet": "Metro Credit Union",
          "distance": 1131,
          "formattedAddress": [
           "800 Bay St (Metro Credit Union)",
           "Toronto ON",
           "Canada"
          ],
          "labeledLatLngs": [
           {
            "label": "display",
            "lat": 43.660721671691235,
            "lng": -79.38630837243234
           }
          ],
          "lat": 43.660721671691235,
          "lng": -79.38630837243234,
          "state": "ON"
         },
         "name": "Second Cup",
         "referralId": "v-1622844916"
        },
        {
         "categories": [
          {
           "icon": {
            "prefix": "https://ss3.4sqi.net/img/categories_v2/food/coffeeshop_",
            "suffix": ".png"
           },
           "id": "4bf58dd8d48988d1e0931735",
           "name": "Coffee Shop",
           "pluralName": "Coffee Shops",
           "primary": true,
           "shortName": "Coffee Shop"
          }
         ],
         "hasPerk": false,
         "id": "5a81ae339deb7d369fa7f146",
         "location": {
          "address": "44 Gerrard St W",
          "cc": "CA",
          "city": "Toronto",
          "country": "Canada",
          "crossStreet": "Yonge St",
          "distance": 1407,
          "formattedAddress": [
           "44 Gerrard St W (Yonge St)",
           "Toronto ON M5G",
           "Canada"
          ],
          "labeledLatLngs": [
           {
            "label": "display",
            "lat": 43.65883296982352,
            "lng": -79.38368351986598
           }
          ],
          "lat": 43.65883296982352,
          "lng": -79.38368351986598,
          "neighborhood": "College Park",
          "postalCode": "M5G",
          "state": "ON"
         },
         "name": "Hailed Coffee",
         "referralId": "v-1622844916"
        },
        {
         "categories": [
          {
           "icon": {
            "prefix": "https://ss3.4sqi.net/img/categories_v2/food/coffeeshop_",
            "suffix": ".png"
           },
           "id": "4bf58dd8d48988d1e0931735",
           "name": "Coffee Shop",
           "pluralName": "Coffee Shops",
           "primary": true,
           "shortName": "Coffee Shop"
          }
         ],
         "hasPerk": false,
         "id": "4b706c6ef964a52086192de3",
         "location": {
          "address": "Rogers Omp (no Access To Public)",
          "cc": "CA",
          "city": "Toronto",
          "country": "Canada",
          "distance": 961,
          "formattedAddress": [
           "Rogers Omp (no Access To Public)",
           "Toronto ON M4Y 2Y5",
           "Canada"
          ],
          "labeledLatLngs": [
           {
            "label": "display",
            "lat": 43.66991265298555,
            "lng": -79.37933743000025
           }
          ],
          "lat": 43.66991265298555,
          "lng": -79.37933743000025,
          "postalCode": "M4Y 2Y5",
          "state": "ON"
         },
         "name": "Tim Hortons",
         "referralId": "v-1622844916"
        }
       ]
      },
      "text/plain": [
       "<IPython.core.display.JSON object>"
      ]
     },
     "execution_count": 8,
     "metadata": {
      "application/json": {
       "expanded": false,
       "root": "root"
      }
     },
     "output_type": "execute_result"
    }
   ],
   "source": [
    "JSON(foursquare_venues)"
   ]
  },
  {
   "cell_type": "code",
   "execution_count": 9,
   "metadata": {},
   "outputs": [],
   "source": [
    "# Create dataFrame and save it as csv\n",
    "foe_df = pd.DataFrame(foursquare_venues['venues'])"
   ]
  },
  {
   "cell_type": "code",
   "execution_count": 10,
   "metadata": {},
   "outputs": [],
   "source": [
    "foe_df.to_csv('./csv/foursquare_venues.csv')"
   ]
  },
  {
   "cell_type": "code",
   "execution_count": 11,
   "metadata": {},
   "outputs": [],
   "source": [
    "# Get Foursquare venue details for one venue to analyze data\n",
    "foursquare_venue_details = get_foursquare_venue_details('56046c7d498e66c67551d0e3')"
   ]
  },
  {
   "cell_type": "code",
   "execution_count": 12,
   "metadata": {},
   "outputs": [
    {
     "data": {
      "application/json": {
       "venue": {
        "allowMenuUrlEdit": true,
        "attributes": {
         "groups": [
          {
           "count": 1,
           "items": [
            {
             "displayName": "Price",
             "displayValue": "$",
             "priceTier": 1
            }
           ],
           "name": "Price",
           "summary": "$",
           "type": "price"
          },
          {
           "count": 5,
           "items": [
            {
             "displayName": "Credit Cards",
             "displayValue": "Yes"
            }
           ],
           "name": "Credit Cards",
           "summary": "Credit Cards",
           "type": "payments"
          },
          {
           "count": 1,
           "items": [
            {
             "displayName": "Outdoor Seating",
             "displayValue": "No"
            }
           ],
           "name": "Outdoor Seating",
           "type": "outdoorSeating"
          },
          {
           "count": 1,
           "items": [
            {
             "displayName": "Wi-Fi",
             "displayValue": "Yes"
            }
           ],
           "name": "Wi-Fi",
           "summary": "Wi-Fi",
           "type": "wifi"
          },
          {
           "count": 8,
           "items": [
            {
             "displayName": "Breakfast",
             "displayValue": "Breakfast"
            }
           ],
           "name": "Menus",
           "summary": "Breakfast",
           "type": "serves"
          }
         ]
        },
        "beenHere": {
         "count": 0,
         "lastCheckinExpiredAt": 0,
         "marked": false,
         "unconfirmedCount": 0
        },
        "bestPhoto": {
         "createdAt": 1467335211,
         "height": 1080,
         "id": "5775c22b498e0a219f71654c",
         "prefix": "https://fastly.4sqi.net/img/general/",
         "source": {
          "name": "Instagram",
          "url": "http://instagram.com"
         },
         "suffix": "/511900_hzbkEAa5OquuIlyzd_ygoxL56K2d_QgXNIP2VZQAH1w.jpg",
         "visibility": "public",
         "width": 1080
        },
        "canonicalUrl": "https://foursquare.com/v/sorry-coffee-co/56046c7d498e66c67551d0e3",
        "categories": [
         {
          "icon": {
           "prefix": "https://ss3.4sqi.net/img/categories_v2/food/coffeeshop_",
           "suffix": ".png"
          },
          "id": "4bf58dd8d48988d1e0931735",
          "name": "Coffee Shop",
          "pluralName": "Coffee Shops",
          "primary": true,
          "shortName": "Coffee Shop"
         }
        ],
        "colors": {
         "algoVersion": 3,
         "highlightColor": {
          "photoId": "5775c22b498e0a219f71654c",
          "value": -14671832
         },
         "highlightTextColor": {
          "photoId": "5775c22b498e0a219f71654c",
          "value": -1
         }
        },
        "contact": {
         "instagram": "sorrycoffeeco"
        },
        "createdAt": 1443130493,
        "defaultHours": {
         "dayData": [],
         "isLocalHoliday": false,
         "isOpen": true,
         "richStatus": {
          "entities": [],
          "text": "Open until 8:00 PM"
         },
         "status": "Open until 8:00 PM",
         "timeframes": [
          {
           "days": "Mon–Fri",
           "includesToday": true,
           "open": [
            {
             "renderedTime": "7:30 AM–8:00 PM"
            }
           ],
           "segments": []
          },
          {
           "days": "Sat",
           "open": [
            {
             "renderedTime": "8:00 AM–8:00 PM"
            }
           ],
           "segments": []
          },
          {
           "days": "Sun",
           "open": [
            {
             "renderedTime": "9:00 AM–6:00 PM"
            }
           ],
           "segments": []
          }
         ]
        },
        "dislike": false,
        "hereNow": {
         "count": 0,
         "groups": [],
         "summary": "Nobody here"
        },
        "hierarchy": [
         {
          "canonicalUrl": "https://foursquare.com/v/kit-and-ace/56195d92498e86b30bef7b4b",
          "id": "56195d92498e86b30bef7b4b",
          "lang": "en",
          "name": "Kit and Ace"
         }
        ],
        "hours": {
         "dayData": [],
         "isLocalHoliday": false,
         "isOpen": true,
         "richStatus": {
          "entities": [],
          "text": "Open until 8:00 PM"
         },
         "status": "Open until 8:00 PM",
         "timeframes": [
          {
           "days": "Mon–Fri",
           "includesToday": true,
           "open": [
            {
             "renderedTime": "7:30 AM–8:00 PM"
            }
           ],
           "segments": []
          },
          {
           "days": "Sat",
           "open": [
            {
             "renderedTime": "8:00 AM–8:00 PM"
            }
           ],
           "segments": []
          },
          {
           "days": "Sun",
           "open": [
            {
             "renderedTime": "9:00 AM–6:00 PM"
            }
           ],
           "segments": []
          }
         ]
        },
        "id": "56046c7d498e66c67551d0e3",
        "inbox": {
         "count": 0,
         "items": []
        },
        "likes": {
         "count": 131,
         "groups": [
          {
           "count": 131,
           "items": [],
           "type": "others"
          }
         ],
         "summary": "131 Likes"
        },
        "listed": {
         "count": 162,
         "groups": [
          {
           "count": 162,
           "items": [
            {
             "canonicalUrl": "https://foursquare.com/burgerplex1/list/yyz",
             "collaborative": false,
             "createdAt": 1429901300,
             "description": "Don’t pronounce the second “t”",
             "editable": false,
             "followers": {
              "count": 3
             },
             "id": "553a8ff4498ef7364a91c3a2",
             "listItems": {
              "count": 200,
              "items": [
               {
                "createdAt": 1446236314,
                "id": "v56046c7d498e66c67551d0e3"
               }
              ]
             },
             "name": "YYZ",
             "photo": {
              "createdAt": 1388949934,
              "height": 640,
              "id": "52c9b1ae498ece9a3e1bd848",
              "prefix": "https://fastly.4sqi.net/img/general/",
              "suffix": "/4586462_uptS9xcS9zUli5DjNE8fHkrr43vh8dcDfCmb3Oq7W90.jpg",
              "visibility": "public",
              "width": 640
             },
             "public": true,
             "type": "others",
             "updatedAt": 1621224155,
             "url": "/burgerplex1/list/yyz",
             "user": {
              "countryCode": "US",
              "firstName": "Ryan"
             }
            },
            {
             "canonicalUrl": "https://foursquare.com/frbe_/list/francis-toronto",
             "collaborative": false,
             "createdAt": 1476407456,
             "description": "",
             "editable": false,
             "followers": {
              "count": 3
             },
             "id": "580030a038fa10fef822e07f",
             "listItems": {
              "count": 70,
              "items": [
               {
                "createdAt": 1476407568,
                "id": "v56046c7d498e66c67551d0e3"
               }
              ]
             },
             "name": "Francis' Toronto",
             "public": true,
             "type": "others",
             "updatedAt": 1522340065,
             "url": "/frbe_/list/francis-toronto",
             "user": {
              "countryCode": "CA",
              "firstName": "Francis",
              "lastName": "B"
             }
            },
            {
             "canonicalUrl": "https://foursquare.com/user/18552002/list/toronto-",
             "collaborative": false,
             "createdAt": 1567966312,
             "description": "Great places for coffee and to coffice!",
             "editable": false,
             "followers": {
              "count": 3
             },
             "id": "5d754468ae927b0006debe47",
             "listItems": {
              "count": 18,
              "items": [
               {
                "createdAt": 1567967329,
                "id": "t5dfbb4e516de6200062eca24",
                "photo": {
                 "createdAt": 1444344883,
                 "height": 1920,
                 "id": "5616f433498e2e02b9bf6e50",
                 "prefix": "https://fastly.4sqi.net/img/general/",
                 "suffix": "/137781961_noFYJEyMpPE2rRm28e7jqteUSZ0cXocLlM7Lvd-00Kk.jpg",
                 "visibility": "public",
                 "width": 1440
                }
               }
              ]
             },
             "name": "TORONTO: ☕️",
             "photo": {
              "createdAt": 1566571087,
              "height": 1440,
              "id": "5d5ffa4f618fca00083402d1",
              "prefix": "https://fastly.4sqi.net/img/general/",
              "suffix": "/2746634_OO-Klc1rQxt5RfJL15RKAY1e-y8ETXQ53i2k6hUWHXM.jpg",
              "visibility": "public",
              "width": 1920
             },
             "public": true,
             "type": "others",
             "updatedAt": 1577131471,
             "url": "/user/18552002/list/toronto-",
             "user": {
              "countryCode": "DE",
              "firstName": "Joanne"
             }
            },
            {
             "canonicalUrl": "https://foursquare.com/user/224990080/list/to-to",
             "collaborative": false,
             "createdAt": 1470168106,
             "description": "",
             "editable": false,
             "followers": {
              "count": 3
             },
             "id": "57a0fc2a498eb9d1c6ad2824",
             "listItems": {
              "count": 72,
              "items": [
               {
                "createdAt": 1470168995,
                "id": "v56046c7d498e66c67551d0e3"
               }
              ]
             },
             "name": "TO TO",
             "public": true,
             "type": "others",
             "updatedAt": 1470504174,
             "url": "/user/224990080/list/to-to",
             "user": {
              "countryCode": "CA",
              "firstName": "Maxime",
              "lastName": "R"
             }
            }
           ],
           "name": "Lists from other people",
           "type": "others"
          }
         ]
        },
        "location": {
         "address": "102 Bloor St W",
         "cc": "CA",
         "city": "Toronto",
         "country": "Canada",
         "crossStreet": "btwn Avenue Rd & Bay St",
         "formattedAddress": [
          "102 Bloor St W (btwn Avenue Rd & Bay St)",
          "Toronto ON M5S 1M8",
          "Canada"
         ],
         "labeledLatLngs": [
          {
           "label": "display",
           "lat": 43.66995375187845,
           "lng": -79.39182812626106
          }
         ],
         "lat": 43.66995375187845,
         "lng": -79.39182812626106,
         "postalCode": "M5S 1M8",
         "state": "ON"
        },
        "name": "Sorry Coffee Co.",
        "ok": false,
        "pageUpdates": {
         "count": 0,
         "items": []
        },
        "parent": {
         "categories": [
          {
           "icon": {
            "prefix": "https://ss3.4sqi.net/img/categories_v2/shops/apparel_boutique_",
            "suffix": ".png"
           },
           "id": "4bf58dd8d48988d104951735",
           "name": "Boutique",
           "pluralName": "Boutiques",
           "primary": true,
           "shortName": "Boutique"
          }
         ],
         "id": "56195d92498e86b30bef7b4b",
         "location": {
          "address": "102 Bloor St W",
          "cc": "CA",
          "city": "Toronto",
          "country": "Canada",
          "crossStreet": "btwn Avenue Rd & Bay St",
          "formattedAddress": [
           "102 Bloor St W (btwn Avenue Rd & Bay St)",
           "Toronto ON M5S 1M8",
           "Canada"
          ],
          "labeledLatLngs": [
           {
            "label": "display",
            "lat": 43.66966971527848,
            "lng": -79.3916089922172
           }
          ],
          "lat": 43.66966971527848,
          "lng": -79.3916089922172,
          "postalCode": "M5S 1M8",
          "state": "ON"
         },
         "name": "Kit and Ace"
        },
        "photos": {
         "count": 114,
         "groups": [
          {
           "count": 114,
           "items": [
            {
             "createdAt": 1467335211,
             "height": 1080,
             "id": "5775c22b498e0a219f71654c",
             "prefix": "https://fastly.4sqi.net/img/general/",
             "source": {
              "name": "Instagram",
              "url": "http://instagram.com"
             },
             "suffix": "/511900_hzbkEAa5OquuIlyzd_ygoxL56K2d_QgXNIP2VZQAH1w.jpg",
             "visibility": "public",
             "width": 1080
            }
           ],
           "name": "Venue photos",
           "type": "venue"
          }
         ]
        },
        "popular": {
         "isLocalHoliday": false,
         "isOpen": false,
         "timeframes": [
          {
           "days": "Today",
           "includesToday": true,
           "open": [
            {
             "renderedTime": "8:00 AM–11:00 AM"
            },
            {
             "renderedTime": "1:00 PM–6:00 PM"
            }
           ],
           "segments": []
          },
          {
           "days": "Sat–Sun",
           "open": [
            {
             "renderedTime": "9:00 AM–6:00 PM"
            }
           ],
           "segments": []
          },
          {
           "days": "Mon",
           "open": [
            {
             "renderedTime": "8:00 AM–11:00 AM"
            },
            {
             "renderedTime": "1:00 PM–4:00 PM"
            }
           ],
           "segments": []
          },
          {
           "days": "Tue–Wed",
           "open": [
            {
             "renderedTime": "8:00 AM–5:00 PM"
            }
           ],
           "segments": []
          },
          {
           "days": "Thu",
           "open": [
            {
             "renderedTime": "8:00 AM–6:00 PM"
            }
           ],
           "segments": []
          }
         ]
        },
        "price": {
         "currency": "$",
         "message": "Cheap",
         "tier": 1
        },
        "rating": 8.2,
        "ratingColor": "73CF42",
        "ratingSignals": 188,
        "reasons": {
         "count": 1,
         "items": [
          {
           "reasonName": "rawLikesReason",
           "summary": "Lots of people like this place",
           "type": "general"
          }
         ]
        },
        "seasonalHours": [],
        "shortUrl": "http://4sq.com/1KxRhMy",
        "specials": {
         "count": 0,
         "items": []
        },
        "stats": {
         "tipCount": 42
        },
        "timeZone": "America/Toronto",
        "tips": {
         "count": 42,
         "groups": [
          {
           "count": 42,
           "items": [
            {
             "agreeCount": 1,
             "authorInteractionType": "liked",
             "canonicalUrl": "https://foursquare.com/item/56590e0a38fa57a46bdaac27",
             "createdAt": 1448676874,
             "disagreeCount": 0,
             "id": "56590e0a38fa57a46bdaac27",
             "lang": "en",
             "likes": {
              "count": 1,
              "groups": [
               {
                "count": 1,
                "items": [],
                "type": "others"
               }
              ],
              "summary": "1 like"
             },
             "logView": true,
             "photo": {
              "createdAt": 1448676875,
              "height": 1440,
              "id": "56590e0b38fa8e21d3ebd7d9",
              "prefix": "https://fastly.4sqi.net/img/general/",
              "source": {
               "name": "Foursquare for iOS",
               "url": "https://foursquare.com/download/#/iphone"
              },
              "suffix": "/2652970_64N9KNJZ6B39AvBy7izfek16jR1df-DYwN0E8At7fRo.jpg",
              "visibility": "public",
              "width": 1440
             },
             "photourl": "https://fastly.4sqi.net/img/general/original/2652970_64N9KNJZ6B39AvBy7izfek16jR1df-DYwN0E8At7fRo.jpg",
             "text": "Overpriced but stylish.",
             "todo": {
              "count": 0
             },
             "type": "user",
             "user": {
              "countryCode": "CA",
              "firstName": "ILYA",
              "lastName": "S"
             }
            }
           ],
           "name": "All tips",
           "type": "others"
          }
         ]
        },
        "url": "http://www.sorrycoffeeco.com",
        "verified": false
       }
      },
      "text/plain": [
       "<IPython.core.display.JSON object>"
      ]
     },
     "execution_count": 12,
     "metadata": {
      "application/json": {
       "expanded": false,
       "root": "root"
      }
     },
     "output_type": "execute_result"
    }
   ],
   "source": [
    "JSON(foursquare_venue_details)"
   ]
  },
  {
   "cell_type": "markdown",
   "metadata": {},
   "source": [
    "#### Yelp"
   ]
  },
  {
   "cell_type": "code",
   "execution_count": 17,
   "metadata": {},
   "outputs": [],
   "source": [
    "# Yelp connection\n",
    "yelp_id = yep['client_id']\n",
    "yelp_api_key = yep['api_key']\n",
    "headers = {'Authorization': 'Bearer %s' % yelp_api_key}\n",
    "root_endpoint = 'https://api.yelp.com/v3'"
   ]
  },
  {
   "cell_type": "code",
   "execution_count": 18,
   "metadata": {},
   "outputs": [],
   "source": [
    "# Get Yelp Venues\n",
    "def get_yelp_venues(latitude, longitude, categories, radius):\n",
    "    api_method = '/businesses/search'\n",
    "    endpoint = root_endpoint + api_method\n",
    "    response = requests.get(endpoint, \n",
    "                      params={'categories': categories, 'latitude': latitude, 'longitude': longitude, 'radius': radius, 'limit': '50'},\n",
    "                      headers=headers)\n",
    "    \n",
    "    status_code, result = response.status_code, response.json()\n",
    "    \n",
    "    \n",
    "    print(f'Request status code: {status_code}')\n",
    "    \n",
    "    return result"
   ]
  },
  {
   "cell_type": "code",
   "execution_count": 19,
   "metadata": {},
   "outputs": [],
   "source": [
    "# Get Yelp Venues details\n",
    "def get_yelp_venue_details(venue_id):\n",
    "    api_method = '/businesses/'\n",
    "    endpoint = root_endpoint + api_method + venue_id\n",
    "\n",
    "    response = requests.get(endpoint, headers=headers)\n",
    "    \n",
    "    status_code, result = response.status_code, response.json()\n",
    "    \n",
    "    \n",
    "    print(f'Request status code: {status_code}')\n",
    "    \n",
    "    return result"
   ]
  },
  {
   "cell_type": "code",
   "execution_count": 20,
   "metadata": {},
   "outputs": [
    {
     "name": "stdout",
     "output_type": "stream",
     "text": [
      "Request status code: 200\n"
     ]
    }
   ],
   "source": [
    "# Get Venues\n",
    "yelp_venues = get_yelp_venues('43.6702287372475','-79.39126856350059', 'soup,museums,coffee,musicvenues', radius)"
   ]
  },
  {
   "cell_type": "code",
   "execution_count": 21,
   "metadata": {},
   "outputs": [
    {
     "data": {
      "application/json": {
       "businesses": [
        {
         "alias": "royal-ontario-museum-toronto",
         "categories": [
          {
           "alias": "museums",
           "title": "Museums"
          }
         ],
         "coordinates": {
          "latitude": 43.6682441250201,
          "longitude": -79.3947601318359
         },
         "display_phone": "+1 416-586-8000",
         "distance": 357.16318508681746,
         "id": "g3t2AQQVT2tWD64Huu7xVA",
         "image_url": "https://s3-media1.fl.yelpcdn.com/bphoto/0t1VXlaMq23qBNuhM9GTlw/o.jpg",
         "is_closed": false,
         "location": {
          "address1": "100 Queen's Park",
          "address2": "",
          "address3": "",
          "city": "Toronto",
          "country": "CA",
          "display_address": [
           "100 Queen's Park",
           "Toronto, ON M5S 2C6",
           "Canada"
          ],
          "state": "ON",
          "zip_code": "M5S 2C6"
         },
         "name": "Royal Ontario Museum",
         "phone": "+14165868000",
         "rating": 4,
         "review_count": 317,
         "transactions": [],
         "url": "https://www.yelp.com/biz/royal-ontario-museum-toronto?adjust_creative=ACaF_GDu2GiZVfbTYzhOTg&utm_campaign=yelp_api_v3&utm_medium=api_v3_business_search&utm_source=ACaF_GDu2GiZVfbTYzhOTg"
        },
        {
         "alias": "sorry-coffee-toronto",
         "categories": [
          {
           "alias": "coffee",
           "title": "Coffee & Tea"
          }
         ],
         "coordinates": {
          "latitude": 43.6696,
          "longitude": -79.39166
         },
         "display_phone": "",
         "distance": 83.12766084944705,
         "id": "WKcVegcUjAld1S737a_QHw",
         "image_url": "https://s3-media2.fl.yelpcdn.com/bphoto/tJ_A1p4feoxy7jgMe9Co9g/o.jpg",
         "is_closed": false,
         "location": {
          "address1": "102 Bloor Street W",
          "address2": "",
          "address3": "",
          "city": "Toronto",
          "country": "CA",
          "display_address": [
           "102 Bloor Street W",
           "Toronto, ON M5S 1M8",
           "Canada"
          ],
          "state": "ON",
          "zip_code": "M5S 1M8"
         },
         "name": "Sorry Coffee",
         "phone": "",
         "price": "$$",
         "rating": 4,
         "review_count": 124,
         "transactions": [],
         "url": "https://www.yelp.com/biz/sorry-coffee-toronto?adjust_creative=ACaF_GDu2GiZVfbTYzhOTg&utm_campaign=yelp_api_v3&utm_medium=api_v3_business_search&utm_source=ACaF_GDu2GiZVfbTYzhOTg"
        },
        {
         "alias": "zaza-espresso-bar-toronto",
         "categories": [
          {
           "alias": "coffee",
           "title": "Coffee & Tea"
          }
         ],
         "coordinates": {
          "latitude": 43.670953081962,
          "longitude": -79.391092966273
         },
         "display_phone": "+1 416-934-9292",
         "distance": 81.77224094200743,
         "id": "X1uGPGLXPLfSx9OTA5_vQg",
         "image_url": "https://s3-media2.fl.yelpcdn.com/bphoto/_sE8zQfJyacsCX28yUZw-A/o.jpg",
         "is_closed": false,
         "location": {
          "address1": "75 Yorkville Avenue",
          "address2": "",
          "address3": "",
          "city": "Toronto",
          "country": "CA",
          "display_address": [
           "75 Yorkville Avenue",
           "Toronto, ON M5R 1B8",
           "Canada"
          ],
          "state": "ON",
          "zip_code": "M5R 1B8"
         },
         "name": "Zaza Espresso Bar",
         "phone": "+14169349292",
         "price": "$$",
         "rating": 4,
         "review_count": 72,
         "transactions": [],
         "url": "https://www.yelp.com/biz/zaza-espresso-bar-toronto?adjust_creative=ACaF_GDu2GiZVfbTYzhOTg&utm_campaign=yelp_api_v3&utm_medium=api_v3_business_search&utm_source=ACaF_GDu2GiZVfbTYzhOTg"
        },
        {
         "alias": "ramen-raijin-toronto-5",
         "categories": [
          {
           "alias": "ramen",
           "title": "Ramen"
          },
          {
           "alias": "noodles",
           "title": "Noodles"
          },
          {
           "alias": "soup",
           "title": "Soup"
          }
         ],
         "coordinates": {
          "latitude": 43.66484,
          "longitude": -79.38607
         },
         "display_phone": "+1 647-348-0667",
         "distance": 736.8532533151603,
         "id": "fJ-2acaqvWOsujUTAJB-ew",
         "image_url": "https://s3-media3.fl.yelpcdn.com/bphoto/OpgJrkePq8w0BvEyzgetzA/o.jpg",
         "is_closed": false,
         "location": {
          "address1": "24 Wellesley Street W",
          "address2": "",
          "address3": "",
          "city": "Toronto",
          "country": "CA",
          "display_address": [
           "24 Wellesley Street W",
           "Toronto, ON M4Y 2X6",
           "Canada"
          ],
          "state": "ON",
          "zip_code": "M4Y 2X6"
         },
         "name": "ramen Raijin",
         "phone": "+16473480667",
         "price": "$$",
         "rating": 3.5,
         "review_count": 357,
         "transactions": [],
         "url": "https://www.yelp.com/biz/ramen-raijin-toronto-5?adjust_creative=ACaF_GDu2GiZVfbTYzhOTg&utm_campaign=yelp_api_v3&utm_medium=api_v3_business_search&utm_source=ACaF_GDu2GiZVfbTYzhOTg"
        },
        {
         "alias": "piedmont-coffee-bar-toronto-2",
         "categories": [
          {
           "alias": "coffee",
           "title": "Coffee & Tea"
          }
         ],
         "coordinates": {
          "latitude": 43.6684349895074,
          "longitude": -79.3828598409891
         },
         "display_phone": "+1 416-901-8639",
         "distance": 705.1221536331773,
         "id": "9AEmY0f_QMmueXQoKsQfKw",
         "image_url": "https://s3-media1.fl.yelpcdn.com/bphoto/Ywl2c5XOPnhA6MMlfAZurQ/o.jpg",
         "is_closed": false,
         "location": {
          "address1": "66 Isabella Street",
          "address2": "Unit 4",
          "address3": null,
          "city": "Toronto",
          "country": "CA",
          "display_address": [
           "66 Isabella Street",
           "Unit 4",
           "Toronto, ON M4Y 1N3",
           "Canada"
          ],
          "state": "ON",
          "zip_code": "M4Y 1N3"
         },
         "name": "Piedmont Coffee Bar",
         "phone": "+14169018639",
         "price": "$$",
         "rating": 4.5,
         "review_count": 65,
         "transactions": [],
         "url": "https://www.yelp.com/biz/piedmont-coffee-bar-toronto-2?adjust_creative=ACaF_GDu2GiZVfbTYzhOTg&utm_campaign=yelp_api_v3&utm_medium=api_v3_business_search&utm_source=ACaF_GDu2GiZVfbTYzhOTg"
        },
        {
         "alias": "nespresso-boutique-bar-toronto",
         "categories": [
          {
           "alias": "coffee",
           "title": "Coffee & Tea"
          },
          {
           "alias": "cafes",
           "title": "Cafes"
          }
         ],
         "coordinates": {
          "latitude": 43.6697469,
          "longitude": -79.3934129
         },
         "display_phone": "+1 800-562-1465",
         "distance": 180.6002244678704,
         "id": "xsFJZu4nME615byZVrpMGA",
         "image_url": "https://s3-media2.fl.yelpcdn.com/bphoto/e4NMddPba840zwjlSACBeA/o.jpg",
         "is_closed": false,
         "location": {
          "address1": "159 Cumberland Street",
          "address2": "",
          "address3": "",
          "city": "Toronto",
          "country": "CA",
          "display_address": [
           "159 Cumberland Street",
           "Toronto, ON M5R 1A2",
           "Canada"
          ],
          "state": "ON",
          "zip_code": "M5R 1A2"
         },
         "name": "Nespresso Boutique Bar",
         "phone": "+18005621465",
         "price": "$$",
         "rating": 4,
         "review_count": 60,
         "transactions": [],
         "url": "https://www.yelp.com/biz/nespresso-boutique-bar-toronto?adjust_creative=ACaF_GDu2GiZVfbTYzhOTg&utm_campaign=yelp_api_v3&utm_medium=api_v3_business_search&utm_source=ACaF_GDu2GiZVfbTYzhOTg"
        },
        {
         "alias": "goldstruck-coffee-toronto",
         "categories": [
          {
           "alias": "coffee",
           "title": "Coffee & Tea"
          }
         ],
         "coordinates": {
          "latitude": 43.6702819,
          "longitude": -79.3923225
         },
         "display_phone": "",
         "distance": 84.97404697709652,
         "id": "l1SGwoX-qkd17XUNkrvskQ",
         "image_url": "https://s3-media2.fl.yelpcdn.com/bphoto/7aH8oRBJVrWNhXfMrjWpxg/o.jpg",
         "is_closed": false,
         "location": {
          "address1": "130 Cumberland Street",
          "address2": "",
          "address3": null,
          "city": "Toronto",
          "country": "CA",
          "display_address": [
           "130 Cumberland Street",
           "Toronto, ON M5R",
           "Canada"
          ],
          "state": "ON",
          "zip_code": "M5R"
         },
         "name": "Goldstruck Coffee",
         "phone": "",
         "price": "$",
         "rating": 3.5,
         "review_count": 66,
         "transactions": [],
         "url": "https://www.yelp.com/biz/goldstruck-coffee-toronto?adjust_creative=ACaF_GDu2GiZVfbTYzhOTg&utm_campaign=yelp_api_v3&utm_medium=api_v3_business_search&utm_source=ACaF_GDu2GiZVfbTYzhOTg"
        },
        {
         "alias": "the-bata-shoe-museum-toronto",
         "categories": [
          {
           "alias": "museums",
           "title": "Museums"
          }
         ],
         "coordinates": {
          "latitude": 43.66723,
          "longitude": -79.40011
         },
         "display_phone": "+1 416-979-7799",
         "distance": 780.0871144493318,
         "id": "_M--1pHhyDlMNQRE9971ng",
         "image_url": "https://s3-media3.fl.yelpcdn.com/bphoto/kKqstUxIqVfcDJuXk6H3uQ/o.jpg",
         "is_closed": false,
         "location": {
          "address1": "327 Bloor Street W",
          "address2": "",
          "address3": "",
          "city": "Toronto",
          "country": "CA",
          "display_address": [
           "327 Bloor Street W",
           "Toronto, ON M5S 1W7",
           "Canada"
          ],
          "state": "ON",
          "zip_code": "M5S 1W7"
         },
         "name": "The Bata Shoe Museum",
         "phone": "+14169797799",
         "rating": 4,
         "review_count": 93,
         "transactions": [],
         "url": "https://www.yelp.com/biz/the-bata-shoe-museum-toronto?adjust_creative=ACaF_GDu2GiZVfbTYzhOTg&utm_campaign=yelp_api_v3&utm_medium=api_v3_business_search&utm_source=ACaF_GDu2GiZVfbTYzhOTg"
        },
        {
         "alias": "rooster-coffee-house-toronto-3",
         "categories": [
          {
           "alias": "coffee",
           "title": "Coffee & Tea"
          }
         ],
         "coordinates": {
          "latitude": 43.6695526976719,
          "longitude": -79.3799088183301
         },
         "display_phone": "+1 416-995-1530",
         "distance": 916.7577119151766,
         "id": "u-3wk-2mnsjy0YIoEg_XjQ",
         "image_url": "https://s3-media2.fl.yelpcdn.com/bphoto/qJUbUI9QKlYLHiAczYM8IQ/o.jpg",
         "is_closed": false,
         "location": {
          "address1": "568 Jarvis Street",
          "address2": "",
          "address3": "",
          "city": "Toronto",
          "country": "CA",
          "display_address": [
           "568 Jarvis Street",
           "Toronto, ON M4Y 0A9",
           "Canada"
          ],
          "state": "ON",
          "zip_code": "M4Y 0A9"
         },
         "name": "Rooster Coffee House",
         "phone": "+14169951530",
         "price": "$",
         "rating": 4,
         "review_count": 74,
         "transactions": [],
         "url": "https://www.yelp.com/biz/rooster-coffee-house-toronto-3?adjust_creative=ACaF_GDu2GiZVfbTYzhOTg&utm_campaign=yelp_api_v3&utm_medium=api_v3_business_search&utm_source=ACaF_GDu2GiZVfbTYzhOTg"
        },
        {
         "alias": "church-street-espresso-toronto",
         "categories": [
          {
           "alias": "coffee",
           "title": "Coffee & Tea"
          }
         ],
         "coordinates": {
          "latitude": 43.66821,
          "longitude": -79.38166
         },
         "display_phone": "+1 647-382-3221",
         "distance": 797.651976036494,
         "id": "fAcuYRDbVPktVgb7zjuKLQ",
         "image_url": "https://s3-media4.fl.yelpcdn.com/bphoto/w-h_JhW2TJJyBPsW6cWinw/o.jpg",
         "is_closed": false,
         "location": {
          "address1": "585 Church Street",
          "address2": "",
          "address3": "",
          "city": "Toronto",
          "country": "CA",
          "display_address": [
           "585 Church Street",
           "Toronto, ON M4Y 2E4",
           "Canada"
          ],
          "state": "ON",
          "zip_code": "M4Y 2E4"
         },
         "name": "Church Street Espresso",
         "phone": "+16473823221",
         "price": "$$",
         "rating": 4.5,
         "review_count": 43,
         "transactions": [],
         "url": "https://www.yelp.com/biz/church-street-espresso-toronto?adjust_creative=ACaF_GDu2GiZVfbTYzhOTg&utm_campaign=yelp_api_v3&utm_medium=api_v3_business_search&utm_source=ACaF_GDu2GiZVfbTYzhOTg"
        },
        {
         "alias": "the-gardiner-museum-toronto",
         "categories": [
          {
           "alias": "museums",
           "title": "Museums"
          }
         ],
         "coordinates": {
          "latitude": 43.668115057906,
          "longitude": -79.392942066268
         },
         "display_phone": "+1 416-586-8080",
         "distance": 270.8449195322236,
         "id": "ptlFWGYV5lPiXKFRWlblIw",
         "image_url": "https://s3-media4.fl.yelpcdn.com/bphoto/feB9RsSo0Ndld84HIuPt9g/o.jpg",
         "is_closed": false,
         "location": {
          "address1": "111 Queen's Park",
          "address2": "",
          "address3": "",
          "city": "Toronto",
          "country": "CA",
          "display_address": [
           "111 Queen's Park",
           "Toronto, ON M5S 2C7",
           "Canada"
          ],
          "state": "ON",
          "zip_code": "M5S 2C7"
         },
         "name": "The Gardiner Museum",
         "phone": "+14165868080",
         "rating": 4,
         "review_count": 33,
         "transactions": [],
         "url": "https://www.yelp.com/biz/the-gardiner-museum-toronto?adjust_creative=ACaF_GDu2GiZVfbTYzhOTg&utm_campaign=yelp_api_v3&utm_medium=api_v3_business_search&utm_source=ACaF_GDu2GiZVfbTYzhOTg"
        },
        {
         "alias": "vapor-central-toronto",
         "categories": [
          {
           "alias": "social_clubs",
           "title": "Social Clubs"
          },
          {
           "alias": "comedyclubs",
           "title": "Comedy Clubs"
          },
          {
           "alias": "musicvenues",
           "title": "Music Venues"
          }
         ],
         "coordinates": {
          "latitude": 43.66851,
          "longitude": -79.38567
         },
         "display_phone": "+1 416-923-3556",
         "distance": 472.9926579954,
         "id": "2xJ1kTKNOz1XjG8q856lRQ",
         "image_url": "https://s3-media1.fl.yelpcdn.com/bphoto/NRRlMX-IKraFmHWQoYoAPA/o.jpg",
         "is_closed": false,
         "location": {
          "address1": "667 Yonge Street",
          "address2": "2nd Floor",
          "address3": "",
          "city": "Toronto",
          "country": "CA",
          "display_address": [
           "667 Yonge Street",
           "2nd Floor",
           "Toronto, ON M4Y 1Z9",
           "Canada"
          ],
          "state": "ON",
          "zip_code": "M4Y 1Z9"
         },
         "name": "Vapor Central",
         "phone": "+14169233556",
         "rating": 4.5,
         "review_count": 23,
         "transactions": [],
         "url": "https://www.yelp.com/biz/vapor-central-toronto?adjust_creative=ACaF_GDu2GiZVfbTYzhOTg&utm_campaign=yelp_api_v3&utm_medium=api_v3_business_search&utm_source=ACaF_GDu2GiZVfbTYzhOTg"
        },
        {
         "alias": "koerner-hall-toronto",
         "categories": [
          {
           "alias": "musicvenues",
           "title": "Music Venues"
          }
         ],
         "coordinates": {
          "latitude": 43.6680501071301,
          "longitude": -79.3959188461304
         },
         "display_phone": "+1 416-408-0208",
         "distance": 445.6279192556859,
         "id": "lgTpTB6YU-QxmMAv8SYgcw",
         "image_url": "https://s3-media3.fl.yelpcdn.com/bphoto/vREo6LxDsLInuxMeklfZKg/o.jpg",
         "is_closed": false,
         "location": {
          "address1": "273 Bloor Street W",
          "address2": "",
          "address3": "",
          "city": "Toronto",
          "country": "CA",
          "display_address": [
           "273 Bloor Street W",
           "Toronto, ON M5S 1W2",
           "Canada"
          ],
          "state": "ON",
          "zip_code": "M5S 1W2"
         },
         "name": "Koerner Hall",
         "phone": "+14164080208",
         "price": "$$",
         "rating": 5,
         "review_count": 11,
         "transactions": [],
         "url": "https://www.yelp.com/biz/koerner-hall-toronto?adjust_creative=ACaF_GDu2GiZVfbTYzhOTg&utm_campaign=yelp_api_v3&utm_medium=api_v3_business_search&utm_source=ACaF_GDu2GiZVfbTYzhOTg"
        },
        {
         "alias": "balzacs-reference-library-toronto",
         "categories": [
          {
           "alias": "coffee",
           "title": "Coffee & Tea"
          },
          {
           "alias": "coffeeroasteries",
           "title": "Coffee Roasteries"
          }
         ],
         "coordinates": {
          "latitude": 43.671744100048,
          "longitude": -79.3872660398483
         },
         "display_phone": "+1 416-922-3700",
         "distance": 363.35167899730607,
         "id": "225qTLqhdBmJskUEr76Kww",
         "image_url": "https://s3-media3.fl.yelpcdn.com/bphoto/sNnkw6xZp1rR1KIC3dQr8w/o.jpg",
         "is_closed": false,
         "location": {
          "address1": "789 Yonge Street",
          "address2": "",
          "address3": "",
          "city": "Toronto",
          "country": "CA",
          "display_address": [
           "789 Yonge Street",
           "Toronto, ON M4W 2G8",
           "Canada"
          ],
          "state": "ON",
          "zip_code": "M4W 2G8"
         },
         "name": "Balzac's - Reference Library",
         "phone": "+14169223700",
         "price": "$",
         "rating": 3.5,
         "review_count": 51,
         "transactions": [],
         "url": "https://www.yelp.com/biz/balzacs-reference-library-toronto?adjust_creative=ACaF_GDu2GiZVfbTYzhOTg&utm_campaign=yelp_api_v3&utm_medium=api_v3_business_search&utm_source=ACaF_GDu2GiZVfbTYzhOTg"
        },
        {
         "alias": "a-ok-cafe-toronto-2",
         "categories": [
          {
           "alias": "coffee",
           "title": "Coffee & Tea"
          }
         ],
         "coordinates": {
          "latitude": 43.6701755,
          "longitude": -79.3878276
         },
         "display_phone": "+1 416-934-0935",
         "distance": 276.82045082798606,
         "id": "oqUMJoyqkBtPEDaHq7aYmQ",
         "image_url": "https://s3-media2.fl.yelpcdn.com/bphoto/YrHFD3ocLxJEUkDcXO2IMg/o.jpg",
         "is_closed": false,
         "location": {
          "address1": "50 Bloor Street W",
          "address2": "",
          "address3": null,
          "city": "Toronto",
          "country": "CA",
          "display_address": [
           "50 Bloor Street W",
           "Toronto, ON M4W 3L8",
           "Canada"
          ],
          "state": "ON",
          "zip_code": "M4W 3L8"
         },
         "name": "A-OK CAFE",
         "phone": "+14169340935",
         "rating": 3.5,
         "review_count": 28,
         "transactions": [],
         "url": "https://www.yelp.com/biz/a-ok-cafe-toronto-2?adjust_creative=ACaF_GDu2GiZVfbTYzhOTg&utm_campaign=yelp_api_v3&utm_medium=api_v3_business_search&utm_source=ACaF_GDu2GiZVfbTYzhOTg"
        },
        {
         "alias": "haute-coffee-toronto",
         "categories": [
          {
           "alias": "coffee",
           "title": "Coffee & Tea"
          },
          {
           "alias": "sandwiches",
           "title": "Sandwiches"
          },
          {
           "alias": "wine_bars",
           "title": "Wine Bars"
          }
         ],
         "coordinates": {
          "latitude": 43.67562990990601,
          "longitude": -79.40273767055231
         },
         "display_phone": "+1 416-566-4999",
         "distance": 1100.707754677742,
         "id": "_Y_f6WKaNyuaYa1IzEAh5A",
         "image_url": "https://s3-media4.fl.yelpcdn.com/bphoto/haAqsZD8AIRLERqzLeZ3Iw/o.jpg",
         "is_closed": false,
         "location": {
          "address1": "153 Dupont Street",
          "address2": "",
          "address3": null,
          "city": "Toronto",
          "country": "CA",
          "display_address": [
           "153 Dupont Street",
           "Toronto, ON M5R 1V5",
           "Canada"
          ],
          "state": "ON",
          "zip_code": "M5R 1V5"
         },
         "name": "Haute Coffee",
         "phone": "+14165664999",
         "price": "$",
         "rating": 4.5,
         "review_count": 32,
         "transactions": [],
         "url": "https://www.yelp.com/biz/haute-coffee-toronto?adjust_creative=ACaF_GDu2GiZVfbTYzhOTg&utm_campaign=yelp_api_v3&utm_medium=api_v3_business_search&utm_source=ACaF_GDu2GiZVfbTYzhOTg"
        },
        {
         "alias": "coffee-lunar-toronto",
         "categories": [
          {
           "alias": "coffee",
           "title": "Coffee & Tea"
          },
          {
           "alias": "desserts",
           "title": "Desserts"
          }
         ],
         "coordinates": {
          "latitude": 43.674107654920775,
          "longitude": -79.3890833
         },
         "display_phone": "",
         "distance": 465.7498967039273,
         "id": "qXFjkI_L3Ws3diveYocNFg",
         "image_url": "https://s3-media3.fl.yelpcdn.com/bphoto/Txl3W2Egbpc3AZ4QllmN5g/o.jpg",
         "is_closed": false,
         "location": {
          "address1": "920 Yonge Street",
          "address2": "",
          "address3": null,
          "city": "Toronto",
          "country": "CA",
          "display_address": [
           "920 Yonge Street",
           "Toronto, ON M4W 3C7",
           "Canada"
          ],
          "state": "ON",
          "zip_code": "M4W 3C7"
         },
         "name": "Coffee Lunar",
         "phone": "",
         "rating": 5,
         "review_count": 9,
         "transactions": [],
         "url": "https://www.yelp.com/biz/coffee-lunar-toronto?adjust_creative=ACaF_GDu2GiZVfbTYzhOTg&utm_campaign=yelp_api_v3&utm_medium=api_v3_business_search&utm_source=ACaF_GDu2GiZVfbTYzhOTg"
        },
        {
         "alias": "the-croissant-tree-toronto",
         "categories": [
          {
           "alias": "coffee",
           "title": "Coffee & Tea"
          },
          {
           "alias": "breakfast_brunch",
           "title": "Breakfast & Brunch"
          },
          {
           "alias": "sandwiches",
           "title": "Sandwiches"
          }
         ],
         "coordinates": {
          "latitude": 43.6695736876027,
          "longitude": -79.3823492115403
         },
         "display_phone": "+1 416-925-8379",
         "distance": 721.0764825931533,
         "id": "webM3oChwDCkzZEmjrSeHQ",
         "image_url": "https://s3-media2.fl.yelpcdn.com/bphoto/CeXnZlPssfMFg2TvVZAmrg/o.jpg",
         "is_closed": false,
         "location": {
          "address1": "625 Church Street",
          "address2": "",
          "address3": "",
          "city": "Toronto",
          "country": "CA",
          "display_address": [
           "625 Church Street",
           "Toronto, ON M4Y 2G1",
           "Canada"
          ],
          "state": "ON",
          "zip_code": "M4Y 2G1"
         },
         "name": "The Croissant Tree",
         "phone": "+14169258379",
         "price": "$$",
         "rating": 3.5,
         "review_count": 57,
         "transactions": [],
         "url": "https://www.yelp.com/biz/the-croissant-tree-toronto?adjust_creative=ACaF_GDu2GiZVfbTYzhOTg&utm_campaign=yelp_api_v3&utm_medium=api_v3_business_search&utm_source=ACaF_GDu2GiZVfbTYzhOTg"
        },
        {
         "alias": "chatime-toronto-13",
         "categories": [
          {
           "alias": "coffee",
           "title": "Coffee & Tea"
          }
         ],
         "coordinates": {
          "latitude": 43.6672563249063,
          "longitude": -79.4006532803178
         },
         "display_phone": "+1 416-901-5660",
         "distance": 824.0226092526073,
         "id": "KnV-IaFLBNR4aT7c_voXjQ",
         "image_url": "https://s3-media4.fl.yelpcdn.com/bphoto/4BMRZZKVGvX2wz0e91fxPA/o.jpg",
         "is_closed": false,
         "location": {
          "address1": "337 Bloor Street W",
          "address2": "",
          "address3": "",
          "city": "Toronto",
          "country": "CA",
          "display_address": [
           "337 Bloor Street W",
           "Toronto, ON M5S 1W7",
           "Canada"
          ],
          "state": "ON",
          "zip_code": "M5S 1W7"
         },
         "name": "Chatime",
         "phone": "+14169015660",
         "price": "$",
         "rating": 3.5,
         "review_count": 65,
         "transactions": [],
         "url": "https://www.yelp.com/biz/chatime-toronto-13?adjust_creative=ACaF_GDu2GiZVfbTYzhOTg&utm_campaign=yelp_api_v3&utm_medium=api_v3_business_search&utm_source=ACaF_GDu2GiZVfbTYzhOTg"
        },
        {
         "alias": "starbucks-toronto-51",
         "categories": [
          {
           "alias": "coffee",
           "title": "Coffee & Tea"
          }
         ],
         "coordinates": {
          "latitude": 43.6685295,
          "longitude": -79.3971329
         },
         "display_phone": "+1 416-926-0166",
         "distance": 515.5852477645446,
         "id": "p80K-OLjJYpIFWu9Ll5fyA",
         "image_url": "https://s3-media1.fl.yelpcdn.com/bphoto/XAst-kJX7LR_nbW17wYguQ/o.jpg",
         "is_closed": false,
         "location": {
          "address1": "1 Bedford Road",
          "address2": "",
          "address3": "",
          "city": "Toronto",
          "country": "CA",
          "display_address": [
           "1 Bedford Road",
           "Toronto, ON M5R 2J9",
           "Canada"
          ],
          "state": "ON",
          "zip_code": "M5R 2J9"
         },
         "name": "Starbucks",
         "phone": "+14169260166",
         "price": "$$",
         "rating": 4,
         "review_count": 24,
         "transactions": [],
         "url": "https://www.yelp.com/biz/starbucks-toronto-51?adjust_creative=ACaF_GDu2GiZVfbTYzhOTg&utm_campaign=yelp_api_v3&utm_medium=api_v3_business_search&utm_source=ACaF_GDu2GiZVfbTYzhOTg"
        },
        {
         "alias": "house-of-tea-toronto",
         "categories": [
          {
           "alias": "coffee",
           "title": "Coffee & Tea"
          }
         ],
         "coordinates": {
          "latitude": 43.67739,
          "longitude": -79.38946
         },
         "display_phone": "+1 416-922-1226",
         "distance": 806.7587050218831,
         "id": "24kLBBjPsRpOVjnx7dz7Xw",
         "image_url": "https://s3-media2.fl.yelpcdn.com/bphoto/j72tuE9GuWzGPeMRJTmaXw/o.jpg",
         "is_closed": false,
         "location": {
          "address1": "1015-1017 Yonge Street",
          "address2": "",
          "address3": "",
          "city": "Toronto",
          "country": "CA",
          "display_address": [
           "1015-1017 Yonge Street",
           "Toronto, ON M4W 2K9",
           "Canada"
          ],
          "state": "ON",
          "zip_code": "M4W 2K9"
         },
         "name": "House of Tea",
         "phone": "+14169221226",
         "price": "$$$",
         "rating": 4,
         "review_count": 23,
         "transactions": [],
         "url": "https://www.yelp.com/biz/house-of-tea-toronto?adjust_creative=ACaF_GDu2GiZVfbTYzhOTg&utm_campaign=yelp_api_v3&utm_medium=api_v3_business_search&utm_source=ACaF_GDu2GiZVfbTYzhOTg"
        },
        {
         "alias": "starbucks-toronto-149",
         "categories": [
          {
           "alias": "coffee",
           "title": "Coffee & Tea"
          }
         ],
         "coordinates": {
          "latitude": 43.66501,
          "longitude": -79.38039
         },
         "display_phone": "+1 416-922-2440",
         "distance": 1048.585222613614,
         "id": "F5_iJtwu4b2_JEryCczvDA",
         "image_url": "https://s3-media1.fl.yelpcdn.com/bphoto/1eHrbC6q6XYLE-YfiZ6l_g/o.jpg",
         "is_closed": false,
         "location": {
          "address1": "485 Church Street",
          "address2": "",
          "address3": "",
          "city": "Toronto",
          "country": "CA",
          "display_address": [
           "485 Church Street",
           "Toronto, ON M4Y 2C6",
           "Canada"
          ],
          "state": "ON",
          "zip_code": "M4Y 2C6"
         },
         "name": "Starbucks",
         "phone": "+14169222440",
         "price": "$$",
         "rating": 4,
         "review_count": 27,
         "transactions": [],
         "url": "https://www.yelp.com/biz/starbucks-toronto-149?adjust_creative=ACaF_GDu2GiZVfbTYzhOTg&utm_campaign=yelp_api_v3&utm_medium=api_v3_business_search&utm_source=ACaF_GDu2GiZVfbTYzhOTg"
        },
        {
         "alias": "coffee-island-toronto-3",
         "categories": [
          {
           "alias": "coffeeroasteries",
           "title": "Coffee Roasteries"
          },
          {
           "alias": "coffeeteasupplies",
           "title": "Coffee & Tea Supplies"
          },
          {
           "alias": "coffee",
           "title": "Coffee & Tea"
          }
         ],
         "coordinates": {
          "latitude": 43.6642827303275,
          "longitude": -79.3867895705269
         },
         "display_phone": "+1 416-901-9919",
         "distance": 752.9469891168109,
         "id": "wKu7InqQOwfIcJ24tCUIKg",
         "image_url": "https://s3-media1.fl.yelpcdn.com/bphoto/u6mB21p7PZkUmXpLhSTtDw/o.jpg",
         "is_closed": false,
         "location": {
          "address1": "925 Bay Street",
          "address2": "",
          "address3": null,
          "city": "Toronto",
          "country": "CA",
          "display_address": [
           "925 Bay Street",
           "Toronto, ON M5S 3L4",
           "Canada"
          ],
          "state": "ON",
          "zip_code": "M5S 3L4"
         },
         "name": "Coffee Island",
         "phone": "+14169019919",
         "price": "$$",
         "rating": 3.5,
         "review_count": 22,
         "transactions": [],
         "url": "https://www.yelp.com/biz/coffee-island-toronto-3?adjust_creative=ACaF_GDu2GiZVfbTYzhOTg&utm_campaign=yelp_api_v3&utm_medium=api_v3_business_search&utm_source=ACaF_GDu2GiZVfbTYzhOTg"
        },
        {
         "alias": "esther-queen-of-soups-toronto",
         "categories": [
          {
           "alias": "soup",
           "title": "Soup"
          }
         ],
         "coordinates": {
          "latitude": 43.6704,
          "longitude": -79.38719
         },
         "display_phone": "+1 416-963-6667",
         "distance": 324.1379610347421,
         "id": "HNF4f4pwr6s99AsDNWWy5g",
         "image_url": "https://s3-media1.fl.yelpcdn.com/bphoto/fnu65yfINjdiWMaA5Gt42g/o.jpg",
         "is_closed": false,
         "location": {
          "address1": "2 Bloor Street W",
          "address2": "",
          "address3": "",
          "city": "Toronto",
          "country": "CA",
          "display_address": [
           "2 Bloor Street W",
           "Toronto, ON M4W 3E2",
           "Canada"
          ],
          "state": "ON",
          "zip_code": "M4W 3E2"
         },
         "name": "Esther Queen of Soups",
         "phone": "+14169636667",
         "price": "$",
         "rating": 3.5,
         "review_count": 19,
         "transactions": [],
         "url": "https://www.yelp.com/biz/esther-queen-of-soups-toronto?adjust_creative=ACaF_GDu2GiZVfbTYzhOTg&utm_campaign=yelp_api_v3&utm_medium=api_v3_business_search&utm_source=ACaF_GDu2GiZVfbTYzhOTg"
        },
        {
         "alias": "starbucks-toronto-132",
         "categories": [
          {
           "alias": "coffee",
           "title": "Coffee & Tea"
          }
         ],
         "coordinates": {
          "latitude": 43.668171,
          "longitude": -79.3889187
         },
         "display_phone": "+1 416-972-9324",
         "distance": 296.77601448566094,
         "id": "3dY5ljdznVZPZun37v2PWQ",
         "image_url": "https://s3-media3.fl.yelpcdn.com/bphoto/6jsN-wF1XZAFXH0iiJtitg/o.jpg",
         "is_closed": false,
         "location": {
          "address1": "47 Charles Street W",
          "address2": "",
          "address3": "",
          "city": "Toronto",
          "country": "CA",
          "display_address": [
           "47 Charles Street W",
           "Toronto, ON M5S 1K5",
           "Canada"
          ],
          "state": "ON",
          "zip_code": "M5S 1K5"
         },
         "name": "Starbucks",
         "phone": "+14169729324",
         "price": "$",
         "rating": 3.5,
         "review_count": 14,
         "transactions": [],
         "url": "https://www.yelp.com/biz/starbucks-toronto-132?adjust_creative=ACaF_GDu2GiZVfbTYzhOTg&utm_campaign=yelp_api_v3&utm_medium=api_v3_business_search&utm_source=ACaF_GDu2GiZVfbTYzhOTg"
        },
        {
         "alias": "starbucks-toronto-109",
         "categories": [
          {
           "alias": "coffee",
           "title": "Coffee & Tea"
          }
         ],
         "coordinates": {
          "latitude": 43.670596,
          "longitude": -79.390085
         },
         "display_phone": "+1 416-934-0881",
         "distance": 103.5837088606705,
         "id": "pMMxRepey5UZL2zfIECEsQ",
         "image_url": "https://s3-media2.fl.yelpcdn.com/bphoto/VrjSTPBtis62lt5kkdzJfA/o.jpg",
         "is_closed": false,
         "location": {
          "address1": "1250 Bay Street",
          "address2": "",
          "address3": "",
          "city": "Toronto",
          "country": "CA",
          "display_address": [
           "1250 Bay Street",
           "Toronto, ON M5R 2B1",
           "Canada"
          ],
          "state": "ON",
          "zip_code": "M5R 2B1"
         },
         "name": "Starbucks",
         "phone": "+14169340881",
         "price": "$$",
         "rating": 3.5,
         "review_count": 16,
         "transactions": [],
         "url": "https://www.yelp.com/biz/starbucks-toronto-109?adjust_creative=ACaF_GDu2GiZVfbTYzhOTg&utm_campaign=yelp_api_v3&utm_medium=api_v3_business_search&utm_source=ACaF_GDu2GiZVfbTYzhOTg"
        },
        {
         "alias": "tim-hortons-toronto-61",
         "categories": [
          {
           "alias": "coffee",
           "title": "Coffee & Tea"
          },
          {
           "alias": "bakeries",
           "title": "Bakeries"
          }
         ],
         "coordinates": {
          "latitude": 43.6709560983017,
          "longitude": -79.3825904294779
         },
         "display_phone": "+1 416-551-7702",
         "distance": 702.6492402777249,
         "id": "NhltyeTQSLCwnTSkGFl6bA",
         "image_url": "https://s3-media1.fl.yelpcdn.com/bphoto/jQXiSxANCY27NTxQyKFG9w/o.jpg",
         "is_closed": false,
         "location": {
          "address1": "175 Bloor Street E",
          "address2": "",
          "address3": "",
          "city": "Toronto",
          "country": "CA",
          "display_address": [
           "175 Bloor Street E",
           "Toronto, ON M4W 3R8",
           "Canada"
          ],
          "state": "ON",
          "zip_code": "M4W 3R8"
         },
         "name": "Tim Hortons",
         "phone": "+14165517702",
         "price": "$",
         "rating": 3.5,
         "review_count": 23,
         "transactions": [],
         "url": "https://www.yelp.com/biz/tim-hortons-toronto-61?adjust_creative=ACaF_GDu2GiZVfbTYzhOTg&utm_campaign=yelp_api_v3&utm_medium=api_v3_business_search&utm_source=ACaF_GDu2GiZVfbTYzhOTg"
        },
        {
         "alias": "starbucks-toronto-162",
         "categories": [
          {
           "alias": "coffee",
           "title": "Coffee & Tea"
          }
         ],
         "coordinates": {
          "latitude": 43.66948,
          "longitude": -79.3923
         },
         "display_phone": "+1 416-963-8754",
         "distance": 115.56930132837135,
         "id": "Vl8PYZKd26DHGSi5rNo5SQ",
         "image_url": "https://s3-media2.fl.yelpcdn.com/bphoto/goi5dHfsFBFGtP-CWTknYQ/o.jpg",
         "is_closed": false,
         "location": {
          "address1": "110 Bloor St W",
          "address2": "",
          "address3": "",
          "city": "Toronto",
          "country": "CA",
          "display_address": [
           "110 Bloor St W",
           "Toronto, ON M5S 2W7",
           "Canada"
          ],
          "state": "ON",
          "zip_code": "M5S 2W7"
         },
         "name": "Starbucks",
         "phone": "+14169638754",
         "price": "$$",
         "rating": 4.5,
         "review_count": 6,
         "transactions": [],
         "url": "https://www.yelp.com/biz/starbucks-toronto-162?adjust_creative=ACaF_GDu2GiZVfbTYzhOTg&utm_campaign=yelp_api_v3&utm_medium=api_v3_business_search&utm_source=ACaF_GDu2GiZVfbTYzhOTg"
        },
        {
         "alias": "gong-cha-toronto-11",
         "categories": [
          {
           "alias": "bubbletea",
           "title": "Bubble Tea"
          },
          {
           "alias": "coffee",
           "title": "Coffee & Tea"
          },
          {
           "alias": "juicebars",
           "title": "Juice Bars & Smoothies"
          }
         ],
         "coordinates": {
          "latitude": 43.6654214,
          "longitude": -79.38436
         },
         "display_phone": "+1 647-748-8517",
         "distance": 762.7724479984868,
         "id": "bBxTEBFOxNU1vZT7twTg-Q",
         "image_url": "https://s3-media1.fl.yelpcdn.com/bphoto/b1xVxodVvqXfjVmOYgbDdw/o.jpg",
         "is_closed": false,
         "location": {
          "address1": "567 Yonge Street",
          "address2": "",
          "address3": null,
          "city": "Toronto",
          "country": "CA",
          "display_address": [
           "567 Yonge Street",
           "Toronto, ON M4Y 1Z2",
           "Canada"
          ],
          "state": "ON",
          "zip_code": "M4Y 1Z2"
         },
         "name": "Gong Cha",
         "phone": "+16477488517",
         "rating": 5,
         "review_count": 6,
         "transactions": [],
         "url": "https://www.yelp.com/biz/gong-cha-toronto-11?adjust_creative=ACaF_GDu2GiZVfbTYzhOTg&utm_campaign=yelp_api_v3&utm_medium=api_v3_business_search&utm_source=ACaF_GDu2GiZVfbTYzhOTg"
        },
        {
         "alias": "mcdonalds-toronto-129",
         "categories": [
          {
           "alias": "hotdogs",
           "title": "Fast Food"
          },
          {
           "alias": "burgers",
           "title": "Burgers"
          },
          {
           "alias": "coffee",
           "title": "Coffee & Tea"
          }
         ],
         "coordinates": {
          "latitude": 43.668633,
          "longitude": -79.395159
         },
         "display_phone": "+1 416-964-1583",
         "distance": 359.71970636624286,
         "id": "xpeSmFl6yWWn8KGGUsb05g",
         "image_url": "https://s3-media4.fl.yelpcdn.com/bphoto/KBX6V6niAFAk2Ihn0EsnwA/o.jpg",
         "is_closed": false,
         "location": {
          "address1": "196 Bloor Street W",
          "address2": "",
          "address3": null,
          "city": "Toronto",
          "country": "CA",
          "display_address": [
           "196 Bloor Street W",
           "Toronto, ON M5T 1S8",
           "Canada"
          ],
          "state": "ON",
          "zip_code": "M5T 1S8"
         },
         "name": "McDonald's",
         "phone": "+14169641583",
         "rating": 4,
         "review_count": 10,
         "transactions": [],
         "url": "https://www.yelp.com/biz/mcdonalds-toronto-129?adjust_creative=ACaF_GDu2GiZVfbTYzhOTg&utm_campaign=yelp_api_v3&utm_medium=api_v3_business_search&utm_source=ACaF_GDu2GiZVfbTYzhOTg"
        },
        {
         "alias": "5-elements-espresso-bar-toronto",
         "categories": [
          {
           "alias": "coffee",
           "title": "Coffee & Tea"
          }
         ],
         "coordinates": {
          "latitude": 43.6737858,
          "longitude": -79.3958557
         },
         "display_phone": "+1 647-352-5330",
         "distance": 540.8816927464303,
         "id": "8zwfzcfzZUfIkWOzQKFBPw",
         "image_url": "https://s3-media2.fl.yelpcdn.com/bphoto/AuxCn8IgieLNh735HFXgJQ/o.jpg",
         "is_closed": false,
         "location": {
          "address1": "131 Avenue Road",
          "address2": "",
          "address3": "",
          "city": "Toronto",
          "country": "CA",
          "display_address": [
           "131 Avenue Road",
           "Toronto, ON M5R 2H7",
           "Canada"
          ],
          "state": "ON",
          "zip_code": "M5R 2H7"
         },
         "name": "5 Elements Espresso Bar",
         "phone": "+16473525330",
         "price": "$$",
         "rating": 3.5,
         "review_count": 22,
         "transactions": [],
         "url": "https://www.yelp.com/biz/5-elements-espresso-bar-toronto?adjust_creative=ACaF_GDu2GiZVfbTYzhOTg&utm_campaign=yelp_api_v3&utm_medium=api_v3_business_search&utm_source=ACaF_GDu2GiZVfbTYzhOTg"
        },
        {
         "alias": "starbucks-toronto-183",
         "categories": [
          {
           "alias": "coffee",
           "title": "Coffee & Tea"
          }
         ],
         "coordinates": {
          "latitude": 43.67799,
          "longitude": -79.39021
         },
         "display_phone": "+1 416-924-0697",
         "distance": 862.8841874262017,
         "id": "wjLaRqpdjy73o8AOADM1bg",
         "image_url": "https://s3-media3.fl.yelpcdn.com/bphoto/QvlOI81d_QrOuJS-GMQe4Q/o.jpg",
         "is_closed": false,
         "location": {
          "address1": "1088 Yonge St",
          "address2": "",
          "address3": "",
          "city": "Toronto",
          "country": "CA",
          "display_address": [
           "1088 Yonge St",
           "Toronto, ON M4W 2L4",
           "Canada"
          ],
          "state": "ON",
          "zip_code": "M4W 2L4"
         },
         "name": "Starbucks",
         "phone": "+14169240697",
         "price": "$",
         "rating": 4,
         "review_count": 14,
         "transactions": [],
         "url": "https://www.yelp.com/biz/starbucks-toronto-183?adjust_creative=ACaF_GDu2GiZVfbTYzhOTg&utm_campaign=yelp_api_v3&utm_medium=api_v3_business_search&utm_source=ACaF_GDu2GiZVfbTYzhOTg"
        },
        {
         "alias": "glad-day-bookshop-toronto",
         "categories": [
          {
           "alias": "bookstores",
           "title": "Bookstores"
          },
          {
           "alias": "coffee",
           "title": "Coffee & Tea"
          },
          {
           "alias": "venues",
           "title": "Venues & Event Spaces"
          }
         ],
         "coordinates": {
          "latitude": 43.6653978,
          "longitude": -79.3807835
         },
         "display_phone": "+1 416-901-6600",
         "distance": 999.8969812982791,
         "id": "Z0GwYnzuKoJRCtjKAmOuPg",
         "image_url": "https://s3-media2.fl.yelpcdn.com/bphoto/aBEdah9BR27UW0jLoaEv1w/o.jpg",
         "is_closed": false,
         "location": {
          "address1": "499 Church Street",
          "address2": "",
          "address3": "",
          "city": "Toronto",
          "country": "CA",
          "display_address": [
           "499 Church Street",
           "Toronto, ON M4Y 2C6",
           "Canada"
          ],
          "state": "ON",
          "zip_code": "M4Y 2C6"
         },
         "name": "Glad Day Bookshop",
         "phone": "+14169016600",
         "price": "$$",
         "rating": 4,
         "review_count": 20,
         "transactions": [],
         "url": "https://www.yelp.com/biz/glad-day-bookshop-toronto?adjust_creative=ACaF_GDu2GiZVfbTYzhOTg&utm_campaign=yelp_api_v3&utm_medium=api_v3_business_search&utm_source=ACaF_GDu2GiZVfbTYzhOTg"
        },
        {
         "alias": "jacked-up-coffee-toronto",
         "categories": [
          {
           "alias": "coffee",
           "title": "Coffee & Tea"
          },
          {
           "alias": "foodtrucks",
           "title": "Food Trucks"
          }
         ],
         "coordinates": {
          "latitude": 43.6706,
          "longitude": -79.39392
         },
         "display_phone": "+1 905-924-0031",
         "distance": 241.28088187682923,
         "id": "WSYfCHipv1lyEZzhIe-LIA",
         "image_url": "https://s3-media4.fl.yelpcdn.com/bphoto/N4i51kwFMmxxw4gEzDqszg/o.jpg",
         "is_closed": false,
         "location": {
          "address1": "",
          "address2": "",
          "address3": null,
          "city": "Toronto",
          "country": "CA",
          "display_address": [
           "Toronto, ON M5R 1C2",
           "Canada"
          ],
          "state": "ON",
          "zip_code": "M5R 1C2"
         },
         "name": "Jacked Up Coffee",
         "phone": "+19059240031",
         "rating": 4,
         "review_count": 6,
         "transactions": [],
         "url": "https://www.yelp.com/biz/jacked-up-coffee-toronto?adjust_creative=ACaF_GDu2GiZVfbTYzhOTg&utm_campaign=yelp_api_v3&utm_medium=api_v3_business_search&utm_source=ACaF_GDu2GiZVfbTYzhOTg"
        },
        {
         "alias": "starbucks-toronto-145",
         "categories": [
          {
           "alias": "coffee",
           "title": "Coffee & Tea"
          }
         ],
         "coordinates": {
          "latitude": 43.67072,
          "longitude": -79.38551
         },
         "display_phone": "+1 416-515-7070",
         "distance": 429.68838127874085,
         "id": "qlrjWbPQecLK48P9PIthow",
         "image_url": "https://s3-media2.fl.yelpcdn.com/bphoto/FZcm0nRP_JStxJP9mZTCkw/o.jpg",
         "is_closed": false,
         "location": {
          "address1": "2 Bloor St E",
          "address2": "",
          "address3": "",
          "city": "Toronto",
          "country": "CA",
          "display_address": [
           "2 Bloor St E",
           "Toronto, ON M4W 1A8",
           "Canada"
          ],
          "state": "ON",
          "zip_code": "M4W 1A8"
         },
         "name": "Starbucks",
         "phone": "+14165157070",
         "price": "$",
         "rating": 3.5,
         "review_count": 14,
         "transactions": [],
         "url": "https://www.yelp.com/biz/starbucks-toronto-145?adjust_creative=ACaF_GDu2GiZVfbTYzhOTg&utm_campaign=yelp_api_v3&utm_medium=api_v3_business_search&utm_source=ACaF_GDu2GiZVfbTYzhOTg"
        },
        {
         "alias": "thank-u-coffee-toronto",
         "categories": [
          {
           "alias": "coffee",
           "title": "Coffee & Tea"
          }
         ],
         "coordinates": {
          "latitude": 43.66751,
          "longitude": -79.3852
         },
         "display_phone": "+1 416-922-1919",
         "distance": 570.5390902785128,
         "id": "QWAo1HT-_07aCHi3W7ldXw",
         "image_url": "https://s3-media2.fl.yelpcdn.com/bphoto/csKVlGGiQh76_qgwI1f9nw/o.jpg",
         "is_closed": false,
         "location": {
          "address1": "3 Isabella Street",
          "address2": null,
          "address3": "",
          "city": "Toronto",
          "country": "CA",
          "display_address": [
           "3 Isabella Street",
           "Toronto, ON M4Y 1M7",
           "Canada"
          ],
          "state": "ON",
          "zip_code": "M4Y 1M7"
         },
         "name": "Thank U Coffee",
         "phone": "+14169221919",
         "rating": 4.5,
         "review_count": 6,
         "transactions": [],
         "url": "https://www.yelp.com/biz/thank-u-coffee-toronto?adjust_creative=ACaF_GDu2GiZVfbTYzhOTg&utm_campaign=yelp_api_v3&utm_medium=api_v3_business_search&utm_source=ACaF_GDu2GiZVfbTYzhOTg"
        },
        {
         "alias": "starbucks-toronto-143",
         "categories": [
          {
           "alias": "coffee",
           "title": "Coffee & Tea"
          }
         ],
         "coordinates": {
          "latitude": 43.6713017641405,
          "longitude": -79.3806838989258
         },
         "display_phone": "+1 416-923-4242",
         "distance": 859.6385142009668,
         "id": "iuGmYUlID2v41SWJnp5B_g",
         "image_url": "https://s3-media4.fl.yelpcdn.com/bphoto/LvA3MDQeRnUgYLyPxPmbGA/o.jpg",
         "is_closed": false,
         "location": {
          "address1": "620 Jarvis Street",
          "address2": "",
          "address3": "",
          "city": "Toronto",
          "country": "CA",
          "display_address": [
           "620 Jarvis Street",
           "Toronto, ON M4Y 2R8",
           "Canada"
          ],
          "state": "ON",
          "zip_code": "M4Y 2R8"
         },
         "name": "Starbucks",
         "phone": "+14169234242",
         "price": "$$",
         "rating": 3.5,
         "review_count": 15,
         "transactions": [],
         "url": "https://www.yelp.com/biz/starbucks-toronto-143?adjust_creative=ACaF_GDu2GiZVfbTYzhOTg&utm_campaign=yelp_api_v3&utm_medium=api_v3_business_search&utm_source=ACaF_GDu2GiZVfbTYzhOTg"
        },
        {
         "alias": "neds-cafe-toronto",
         "categories": [
          {
           "alias": "coffee",
           "title": "Coffee & Tea"
          }
         ],
         "coordinates": {
          "latitude": 43.6676467553761,
          "longitude": -79.3925198722218
         },
         "display_phone": "+1 416-585-4521",
         "distance": 304.23270451732947,
         "id": "VKH4D4eXgnk1hK4Xt6fziQ",
         "image_url": "https://s3-media3.fl.yelpcdn.com/bphoto/Vv24LQ0DEuDjStZJVU9PSA/o.jpg",
         "is_closed": false,
         "location": {
          "address1": "150 Charles Street W",
          "address2": "Room 127",
          "address3": "",
          "city": "Toronto",
          "country": "CA",
          "display_address": [
           "150 Charles Street W",
           "Room 127",
           "Toronto, ON M5S 1K9",
           "Canada"
          ],
          "state": "ON",
          "zip_code": "M5S 1K9"
         },
         "name": "Ned's Cafe",
         "phone": "+14165854521",
         "rating": 4,
         "review_count": 5,
         "transactions": [],
         "url": "https://www.yelp.com/biz/neds-cafe-toronto?adjust_creative=ACaF_GDu2GiZVfbTYzhOTg&utm_campaign=yelp_api_v3&utm_medium=api_v3_business_search&utm_source=ACaF_GDu2GiZVfbTYzhOTg"
        },
        {
         "alias": "mcdonalds-toronto-74",
         "categories": [
          {
           "alias": "hotdogs",
           "title": "Fast Food"
          },
          {
           "alias": "burgers",
           "title": "Burgers"
          },
          {
           "alias": "coffee",
           "title": "Coffee & Tea"
          }
         ],
         "coordinates": {
          "latitude": 43.66884,
          "longitude": -79.38594
         },
         "display_phone": "+1 416-413-1442",
         "distance": 458.50625813952996,
         "id": "hi2EpaTqR9Wx-aj05-eyfg",
         "image_url": "https://s3-media4.fl.yelpcdn.com/bphoto/IzlEjPW7fwLTzVOiPo3R_g/o.jpg",
         "is_closed": false,
         "location": {
          "address1": "675 Yonge Street",
          "address2": "",
          "address3": "",
          "city": "Toronto",
          "country": "CA",
          "display_address": [
           "675 Yonge Street",
           "Toronto, ON M4Y 1T2",
           "Canada"
          ],
          "state": "ON",
          "zip_code": "M4Y 1T2"
         },
         "name": "McDonald's",
         "phone": "+14164131442",
         "price": "$",
         "rating": 2.5,
         "review_count": 31,
         "transactions": [],
         "url": "https://www.yelp.com/biz/mcdonalds-toronto-74?adjust_creative=ACaF_GDu2GiZVfbTYzhOTg&utm_campaign=yelp_api_v3&utm_medium=api_v3_business_search&utm_source=ACaF_GDu2GiZVfbTYzhOTg"
        },
        {
         "alias": "royal-conservatory-of-music-toronto",
         "categories": [
          {
           "alias": "musicvenues",
           "title": "Music Venues"
          }
         ],
         "coordinates": {
          "latitude": 43.667979,
          "longitude": -79.396134
         },
         "display_phone": "+1 416-408-2824",
         "distance": 464.45940965636805,
         "id": "RJEtBRLJmmji_QoqS6ysjg",
         "image_url": "https://s3-media3.fl.yelpcdn.com/bphoto/EtyYFGJa9wNRUgsZWziM7A/o.jpg",
         "is_closed": false,
         "location": {
          "address1": "273 Bloor Street W",
          "address2": "",
          "address3": "",
          "city": "Toronto",
          "country": "CA",
          "display_address": [
           "273 Bloor Street W",
           "Toronto, ON M5S 1W2",
           "Canada"
          ],
          "state": "ON",
          "zip_code": "M5S 1W2"
         },
         "name": "Royal Conservatory of Music",
         "phone": "+14164082824",
         "price": "$$",
         "rating": 4,
         "review_count": 6,
         "transactions": [],
         "url": "https://www.yelp.com/biz/royal-conservatory-of-music-toronto?adjust_creative=ACaF_GDu2GiZVfbTYzhOTg&utm_campaign=yelp_api_v3&utm_medium=api_v3_business_search&utm_source=ACaF_GDu2GiZVfbTYzhOTg"
        },
        {
         "alias": "tim-hortons-toronto-48",
         "categories": [
          {
           "alias": "sandwiches",
           "title": "Sandwiches"
          },
          {
           "alias": "coffee",
           "title": "Coffee & Tea"
          },
          {
           "alias": "breakfast_brunch",
           "title": "Breakfast & Brunch"
          }
         ],
         "coordinates": {
          "latitude": 43.6683,
          "longitude": -79.39774
         },
         "display_phone": "+1 416-924-8188",
         "distance": 561.4889427145989,
         "id": "YPLJPAHy_byhlrwceIbN9Q",
         "image_url": "https://s3-media4.fl.yelpcdn.com/bphoto/Zszh76hYnqGewwqa-XV5vQ/o.jpg",
         "is_closed": false,
         "location": {
          "address1": "246 Bloor Street W",
          "address2": "",
          "address3": "",
          "city": "Toronto",
          "country": "CA",
          "display_address": [
           "246 Bloor Street W",
           "Toronto, ON M5S 1V4",
           "Canada"
          ],
          "state": "ON",
          "zip_code": "M5S 1V4"
         },
         "name": "Tim Hortons",
         "phone": "+14169248188",
         "price": "$",
         "rating": 2.5,
         "review_count": 30,
         "transactions": [],
         "url": "https://www.yelp.com/biz/tim-hortons-toronto-48?adjust_creative=ACaF_GDu2GiZVfbTYzhOTg&utm_campaign=yelp_api_v3&utm_medium=api_v3_business_search&utm_source=ACaF_GDu2GiZVfbTYzhOTg"
        },
        {
         "alias": "second-cup-toronto-50",
         "categories": [
          {
           "alias": "coffee",
           "title": "Coffee & Tea"
          }
         ],
         "coordinates": {
          "latitude": 43.66254,
          "longitude": -79.3829499
         },
         "display_phone": "+1 416-935-0452",
         "distance": 1091.1244638593823,
         "id": "lvN0O3DRaO10KXGWCEZFbw",
         "image_url": "https://s3-media1.fl.yelpcdn.com/bphoto/sTq8wxPc_CEQazCpue4pPQ/o.jpg",
         "is_closed": false,
         "location": {
          "address1": "475 Yonge Street",
          "address2": "",
          "address3": "",
          "city": "Toronto",
          "country": "CA",
          "display_address": [
           "475 Yonge Street",
           "Toronto, ON M4Y 1X7",
           "Canada"
          ],
          "state": "ON",
          "zip_code": "M4Y 1X7"
         },
         "name": "Second Cup",
         "phone": "+14169350452",
         "price": "$",
         "rating": 3,
         "review_count": 22,
         "transactions": [],
         "url": "https://www.yelp.com/biz/second-cup-toronto-50?adjust_creative=ACaF_GDu2GiZVfbTYzhOTg&utm_campaign=yelp_api_v3&utm_medium=api_v3_business_search&utm_source=ACaF_GDu2GiZVfbTYzhOTg"
        },
        {
         "alias": "starbucks-toronto-174",
         "categories": [
          {
           "alias": "coffee",
           "title": "Coffee & Tea"
          }
         ],
         "coordinates": {
          "latitude": 43.670098411044,
          "longitude": -79.388198422879
         },
         "display_phone": "+1 416-922-0770",
         "distance": 247.35683944273293,
         "id": "o2811xZ0ufRi7WcsqWiGzw",
         "image_url": "https://s3-media1.fl.yelpcdn.com/bphoto/0a8Qgii7WjnV_gHY8H7hIw/o.jpg",
         "is_closed": false,
         "location": {
          "address1": "50 Bloor Street W",
          "address2": "",
          "address3": "",
          "city": "Toronto",
          "country": "CA",
          "display_address": [
           "50 Bloor Street W",
           "Toronto, ON M4W 3L8",
           "Canada"
          ],
          "state": "ON",
          "zip_code": "M4W 3L8"
         },
         "name": "Starbucks",
         "phone": "+14169220770",
         "price": "$$",
         "rating": 4,
         "review_count": 4,
         "transactions": [],
         "url": "https://www.yelp.com/biz/starbucks-toronto-174?adjust_creative=ACaF_GDu2GiZVfbTYzhOTg&utm_campaign=yelp_api_v3&utm_medium=api_v3_business_search&utm_source=ACaF_GDu2GiZVfbTYzhOTg"
        },
        {
         "alias": "tim-hortons-toronto-148",
         "categories": [
          {
           "alias": "coffee",
           "title": "Coffee & Tea"
          }
         ],
         "coordinates": {
          "latitude": 43.668989828381726,
          "longitude": -79.38935448746686
         },
         "display_phone": "+1 647-346-3047",
         "distance": 206.58838918105442,
         "id": "Uj8ViXLaksdUWXUoRfP-zQ",
         "image_url": "https://s3-media4.fl.yelpcdn.com/bphoto/ZMVHatecW2tjQujqSdWEbw/o.jpg",
         "is_closed": false,
         "location": {
          "address1": "1170 Bay Street",
          "address2": "",
          "address3": "",
          "city": "Toronto",
          "country": "CA",
          "display_address": [
           "1170 Bay Street",
           "Toronto, ON M5S 2B4",
           "Canada"
          ],
          "state": "ON",
          "zip_code": "M5S 2B4"
         },
         "name": "Tim Hortons",
         "phone": "+16473463047",
         "price": "$",
         "rating": 2.5,
         "review_count": 11,
         "transactions": [],
         "url": "https://www.yelp.com/biz/tim-hortons-toronto-148?adjust_creative=ACaF_GDu2GiZVfbTYzhOTg&utm_campaign=yelp_api_v3&utm_medium=api_v3_business_search&utm_source=ACaF_GDu2GiZVfbTYzhOTg"
        },
        {
         "alias": "second-cup-toronto-55",
         "categories": [
          {
           "alias": "coffee",
           "title": "Coffee & Tea"
          }
         ],
         "coordinates": {
          "latitude": 43.66534,
          "longitude": -79.38099
         },
         "display_phone": "+1 416-966-2981",
         "distance": 990.5101484323728,
         "id": "VfaMlMtHJgndVw62GUiwCQ",
         "image_url": "https://s3-media4.fl.yelpcdn.com/bphoto/5U4bu4WQmZhs6_2hV70QMg/o.jpg",
         "is_closed": false,
         "location": {
          "address1": "544 Church Street",
          "address2": "",
          "address3": "",
          "city": "Toronto",
          "country": "CA",
          "display_address": [
           "544 Church Street",
           "Toronto, ON M4Y 2E1",
           "Canada"
          ],
          "state": "ON",
          "zip_code": "M4Y 2E1"
         },
         "name": "Second Cup",
         "phone": "+14169662981",
         "price": "$",
         "rating": 3,
         "review_count": 16,
         "transactions": [],
         "url": "https://www.yelp.com/biz/second-cup-toronto-55?adjust_creative=ACaF_GDu2GiZVfbTYzhOTg&utm_campaign=yelp_api_v3&utm_medium=api_v3_business_search&utm_source=ACaF_GDu2GiZVfbTYzhOTg"
        },
        {
         "alias": "the-maker-bean-cafe-toronto",
         "categories": [
          {
           "alias": "3dprinting",
           "title": "3D Printing"
          },
          {
           "alias": "coffee",
           "title": "Coffee & Tea"
          }
         ],
         "coordinates": {
          "latitude": 43.6606071074309,
          "longitude": -79.4324743375182
         },
         "display_phone": "+1 647-346-2326",
         "distance": 3482.845322120677,
         "id": "DF3Z_PMdKGwR9xwWP8923w",
         "image_url": "https://s3-media3.fl.yelpcdn.com/bphoto/HGc4TAOTz9wiXxLHWqeuoQ/o.jpg",
         "is_closed": false,
         "location": {
          "address1": "1052 Bloor Street W",
          "address2": "",
          "address3": null,
          "city": "Toronto",
          "country": "CA",
          "display_address": [
           "1052 Bloor Street W",
           "Toronto, ON M6H 1M3",
           "Canada"
          ],
          "state": "ON",
          "zip_code": "M6H 1M3"
         },
         "name": "The Maker Bean Cafe",
         "phone": "+16473462326",
         "rating": 5,
         "review_count": 6,
         "transactions": [],
         "url": "https://www.yelp.com/biz/the-maker-bean-cafe-toronto?adjust_creative=ACaF_GDu2GiZVfbTYzhOTg&utm_campaign=yelp_api_v3&utm_medium=api_v3_business_search&utm_source=ACaF_GDu2GiZVfbTYzhOTg"
        },
        {
         "alias": "presse-café-toronto-4",
         "categories": [
          {
           "alias": "cafes",
           "title": "Cafes"
          },
          {
           "alias": "coffee",
           "title": "Coffee & Tea"
          }
         ],
         "coordinates": {
          "latitude": 43.6627083,
          "longitude": -79.3861618
         },
         "display_phone": "+1 416-929-0101",
         "distance": 929.213390732762,
         "id": "YA7kPicnPFqd_gydw0SOjw",
         "image_url": "https://s3-media4.fl.yelpcdn.com/bphoto/iPC8R1qSFYSAyzRc_7PwtQ/o.jpg",
         "is_closed": false,
         "location": {
          "address1": "875 Bay Street",
          "address2": "",
          "address3": "",
          "city": "Toronto",
          "country": "CA",
          "display_address": [
           "875 Bay Street",
           "Toronto, ON M5S 3K6",
           "Canada"
          ],
          "state": "ON",
          "zip_code": "M5S 3K6"
         },
         "name": "Presse Café",
         "phone": "+14169290101",
         "price": "$$",
         "rating": 3.5,
         "review_count": 12,
         "transactions": [],
         "url": "https://www.yelp.com/biz/presse-caf%C3%A9-toronto-4?adjust_creative=ACaF_GDu2GiZVfbTYzhOTg&utm_campaign=yelp_api_v3&utm_medium=api_v3_business_search&utm_source=ACaF_GDu2GiZVfbTYzhOTg"
        },
        {
         "alias": "tim-hortons-toronto-14",
         "categories": [
          {
           "alias": "coffee",
           "title": "Coffee & Tea"
          },
          {
           "alias": "breakfast_brunch",
           "title": "Breakfast & Brunch"
          },
          {
           "alias": "sandwiches",
           "title": "Sandwiches"
          }
         ],
         "coordinates": {
          "latitude": 43.67116,
          "longitude": -79.38683
         },
         "display_phone": "+1 416-934-1756",
         "distance": 359.7199429847305,
         "id": "V63RB78cOIBxED8KvsOcBQ",
         "image_url": "https://s3-media4.fl.yelpcdn.com/bphoto/iJNib5-YiWqcSJyY7yiW3g/o.jpg",
         "is_closed": false,
         "location": {
          "address1": "769 Yonge Street",
          "address2": "",
          "address3": "",
          "city": "Toronto",
          "country": "CA",
          "display_address": [
           "769 Yonge Street",
           "Toronto, ON M4W 2G4",
           "Canada"
          ],
          "state": "ON",
          "zip_code": "M4W 2G4"
         },
         "name": "Tim Hortons",
         "phone": "+14169341756",
         "price": "$",
         "rating": 3,
         "review_count": 9,
         "transactions": [],
         "url": "https://www.yelp.com/biz/tim-hortons-toronto-14?adjust_creative=ACaF_GDu2GiZVfbTYzhOTg&utm_campaign=yelp_api_v3&utm_medium=api_v3_business_search&utm_source=ACaF_GDu2GiZVfbTYzhOTg"
        },
        {
         "alias": "starbucks-toronto-161",
         "categories": [
          {
           "alias": "coffee",
           "title": "Coffee & Tea"
          }
         ],
         "coordinates": {
          "latitude": 43.66963,
          "longitude": -79.38864
         },
         "display_phone": "+1 416-925-8989",
         "distance": 224.30297815907105,
         "id": "z35NAJ4ryfJv0JnqCe8YpQ",
         "image_url": "https://s3-media2.fl.yelpcdn.com/bphoto/YwVgUFFBOP1-H-_mRaF77w/o.jpg",
         "is_closed": false,
         "location": {
          "address1": "55 Bloor St W",
          "address2": "",
          "address3": "",
          "city": "Toronto",
          "country": "CA",
          "display_address": [
           "55 Bloor St W",
           "Toronto, ON M4W 1A5",
           "Canada"
          ],
          "state": "ON",
          "zip_code": "M4W 1A5"
         },
         "name": "Starbucks",
         "phone": "+14169258989",
         "price": "$",
         "rating": 3.5,
         "review_count": 4,
         "transactions": [],
         "url": "https://www.yelp.com/biz/starbucks-toronto-161?adjust_creative=ACaF_GDu2GiZVfbTYzhOTg&utm_campaign=yelp_api_v3&utm_medium=api_v3_business_search&utm_source=ACaF_GDu2GiZVfbTYzhOTg"
        },
        {
         "alias": "country-style-coffee-toronto",
         "categories": [
          {
           "alias": "coffee",
           "title": "Coffee & Tea"
          }
         ],
         "coordinates": {
          "latitude": 43.6681,
          "longitude": -79.38617
         },
         "display_phone": "+1 416-924-3479",
         "distance": 447.50041589244705,
         "id": "K9EKg8sIbfTQOpBmuRsa2g",
         "image_url": "",
         "is_closed": false,
         "location": {
          "address1": "10 Saint Mary St",
          "address2": "",
          "address3": "",
          "city": "Toronto",
          "country": "CA",
          "display_address": [
           "10 Saint Mary St",
           "Toronto, ON M4Y 1P9",
           "Canada"
          ],
          "state": "ON",
          "zip_code": "M4Y 1P9"
         },
         "name": "Country Style Coffee",
         "phone": "+14169243479",
         "price": "$",
         "rating": 4.5,
         "review_count": 4,
         "transactions": [],
         "url": "https://www.yelp.com/biz/country-style-coffee-toronto?adjust_creative=ACaF_GDu2GiZVfbTYzhOTg&utm_campaign=yelp_api_v3&utm_medium=api_v3_business_search&utm_source=ACaF_GDu2GiZVfbTYzhOTg"
        }
       ],
       "region": {
        "center": {
         "latitude": 43.6702287372475,
         "longitude": -79.39126856350059
        }
       },
       "total": 86
      },
      "text/plain": [
       "<IPython.core.display.JSON object>"
      ]
     },
     "execution_count": 21,
     "metadata": {
      "application/json": {
       "expanded": false,
       "root": "root"
      }
     },
     "output_type": "execute_result"
    }
   ],
   "source": [
    "JSON(yelp_venues) # 86"
   ]
  },
  {
   "cell_type": "code",
   "execution_count": 22,
   "metadata": {},
   "outputs": [],
   "source": [
    "# Create dataFrame and save it as csv\n",
    "yep_df = pd.DataFrame(yelp_venues['businesses'])"
   ]
  },
  {
   "cell_type": "code",
   "execution_count": 23,
   "metadata": {},
   "outputs": [],
   "source": [
    "yep_df.to_csv('yelp_venues.csv')"
   ]
  },
  {
   "cell_type": "code",
   "execution_count": 24,
   "metadata": {},
   "outputs": [
    {
     "name": "stdout",
     "output_type": "stream",
     "text": [
      "Request status code: 200\n"
     ]
    }
   ],
   "source": [
    "# Get Details to analyze data\n",
    "venue_id = 'WKcVegcUjAld1S737a_QHw'\n",
    "#venue_id = \"g3t2AQQVT2tWD64Huu7xVA\"\n",
    "venue_details = get_yelp_venue_details(venue_id)"
   ]
  },
  {
   "cell_type": "code",
   "execution_count": 25,
   "metadata": {},
   "outputs": [
    {
     "data": {
      "application/json": {
       "alias": "sorry-coffee-toronto",
       "categories": [
        {
         "alias": "coffee",
         "title": "Coffee & Tea"
        }
       ],
       "coordinates": {
        "latitude": 43.6696,
        "longitude": -79.39166
       },
       "display_phone": "",
       "hours": [
        {
         "hours_type": "REGULAR",
         "is_open_now": false,
         "open": [
          {
           "day": 0,
           "end": "1800",
           "is_overnight": false,
           "start": "0730"
          },
          {
           "day": 1,
           "end": "1800",
           "is_overnight": false,
           "start": "0730"
          },
          {
           "day": 2,
           "end": "1800",
           "is_overnight": false,
           "start": "0715"
          },
          {
           "day": 3,
           "end": "1800",
           "is_overnight": false,
           "start": "0730"
          },
          {
           "day": 4,
           "end": "1800",
           "is_overnight": false,
           "start": "0730"
          },
          {
           "day": 5,
           "end": "1830",
           "is_overnight": false,
           "start": "0800"
          },
          {
           "day": 6,
           "end": "1700",
           "is_overnight": false,
           "start": "0900"
          }
         ]
        }
       ],
       "id": "WKcVegcUjAld1S737a_QHw",
       "image_url": "https://s3-media2.fl.yelpcdn.com/bphoto/tJ_A1p4feoxy7jgMe9Co9g/o.jpg",
       "is_claimed": true,
       "is_closed": false,
       "location": {
        "address1": "102 Bloor Street W",
        "address2": "",
        "address3": "",
        "city": "Toronto",
        "country": "CA",
        "cross_streets": "",
        "display_address": [
         "102 Bloor Street W",
         "Toronto, ON M5S 1M8",
         "Canada"
        ],
        "state": "ON",
        "zip_code": "M5S 1M8"
       },
       "name": "Sorry Coffee",
       "phone": "",
       "photos": [
        "https://s3-media2.fl.yelpcdn.com/bphoto/tJ_A1p4feoxy7jgMe9Co9g/o.jpg",
        "https://s3-media1.fl.yelpcdn.com/bphoto/wwqYT5w-vgad4gGiGa8XVA/o.jpg",
        "https://s3-media2.fl.yelpcdn.com/bphoto/CgKVdfwFhtWvI10X5KjRbQ/o.jpg"
       ],
       "price": "$$",
       "rating": 4,
       "review_count": 124,
       "special_hours": [
        {
         "date": "2021-07-01",
         "end": "1700",
         "is_closed": null,
         "is_overnight": false,
         "start": "0900"
        }
       ],
       "transactions": [],
       "url": "https://www.yelp.com/biz/sorry-coffee-toronto?adjust_creative=ACaF_GDu2GiZVfbTYzhOTg&utm_campaign=yelp_api_v3&utm_medium=api_v3_business_lookup&utm_source=ACaF_GDu2GiZVfbTYzhOTg"
      },
      "text/plain": [
       "<IPython.core.display.JSON object>"
      ]
     },
     "execution_count": 25,
     "metadata": {
      "application/json": {
       "expanded": false,
       "root": "root"
      }
     },
     "output_type": "execute_result"
    }
   ],
   "source": [
    "JSON(venue_details)"
   ]
  },
  {
   "cell_type": "markdown",
   "metadata": {},
   "source": [
    "## Get Sample venues"
   ]
  },
  {
   "cell_type": "code",
   "execution_count": 29,
   "metadata": {},
   "outputs": [],
   "source": [
    "# Sample venues\n",
    "# due to limited API calls we will get 30 - Foursquare\n",
    "fq_rng = default_rng()\n",
    "f_30 = fq_rng.choice(48, size=30, replace=False).tolist()\n",
    "f_30.sort()"
   ]
  },
  {
   "cell_type": "code",
   "execution_count": 31,
   "metadata": {},
   "outputs": [],
   "source": [
    "# Sample venues\n",
    "# due to limited API calls we will get 30\n",
    "yp_rng = default_rng()\n",
    "yep_sample = yp_rng.choice(48, size=30, replace=False)\n",
    "y_30 = yep_sample.tolist()\n",
    "y_30.sort()"
   ]
  },
  {
   "cell_type": "code",
   "execution_count": 37,
   "metadata": {},
   "outputs": [],
   "source": [
    "# get Foursquare venues sample - 30\n",
    "#sample_foursquare = \n",
    "sample_foe = foe_df.iloc[f_30]\n",
    "sample_foe.to_csv('csv/sample_foursquare_venues.csv')"
   ]
  },
  {
   "cell_type": "code",
   "execution_count": 38,
   "metadata": {},
   "outputs": [],
   "source": [
    "# get Yelp venues sample - 30\n",
    "#sample_yelp = \n",
    "sample_yep = yep_df.iloc[y_30]\n",
    "sample_yep.to_csv('csv/sample_yelp_venues.csv')"
   ]
  },
  {
   "cell_type": "code",
   "execution_count": null,
   "metadata": {},
   "outputs": [],
   "source": [
    "# Foursquare details\n",
    "all_foe_details = []\n",
    "for index, value in sample_foe['id'].items():\n",
    "    f_venue_details_temp = get_foursquare_venue_details(value)\n",
    "    all_foe_details.append(f_venue_details_temp['venue'])"
   ]
  },
  {
   "cell_type": "code",
   "execution_count": 41,
   "metadata": {},
   "outputs": [],
   "source": [
    "foursquare_venue_details_df = pd.DataFrame(all_foe_details)\n",
    "foursquare_venue_details_df.to_csv('csv/foursquare_venue_details.csv')"
   ]
  },
  {
   "cell_type": "code",
   "execution_count": null,
   "metadata": {},
   "outputs": [],
   "source": [
    "# Yelp details\n",
    "all_yep_details = []\n",
    "for index, value in sample_yep['id'].items():\n",
    "    y_venue_details_temp = get_yelp_venue_details(value)\n",
    "    all_yep_details.append(y_venue_details_temp)"
   ]
  },
  {
   "cell_type": "code",
   "execution_count": 47,
   "metadata": {},
   "outputs": [],
   "source": [
    "yelp_venue_details_df = pd.DataFrame(all_yep_details)\n",
    "yelp_venue_details_df.to_csv('csv/yelp_venue_details.csv')"
   ]
  },
  {
   "cell_type": "markdown",
   "metadata": {},
   "source": [
    "## Compare fields "
   ]
  },
  {
   "cell_type": "code",
   "execution_count": 49,
   "metadata": {},
   "outputs": [
    {
     "data": {
      "text/plain": [
       "Index(['id', 'name', 'contact', 'location', 'canonicalUrl', 'categories',\n",
       "       'verified', 'stats', 'url', 'price', 'likes', 'dislike', 'ok', 'rating',\n",
       "       'ratingColor', 'ratingSignals', 'allowMenuUrlEdit', 'beenHere',\n",
       "       'specials', 'photos', 'reasons', 'description', 'page', 'hereNow',\n",
       "       'createdAt', 'tips', 'shortUrl', 'timeZone', 'listed', 'hours',\n",
       "       'popular', 'seasonalHours', 'defaultHours', 'pageUpdates', 'inbox',\n",
       "       'attributes', 'bestPhoto', 'colors', 'parent', 'hierarchy', 'venuePage',\n",
       "       'storeId'],\n",
       "      dtype='object')"
      ]
     },
     "execution_count": 49,
     "metadata": {},
     "output_type": "execute_result"
    }
   ],
   "source": [
    "foursquare_venue_details_df.columns"
   ]
  },
  {
   "cell_type": "code",
   "execution_count": 50,
   "metadata": {},
   "outputs": [
    {
     "data": {
      "text/plain": [
       "Index(['id', 'alias', 'name', 'image_url', 'is_claimed', 'is_closed', 'url',\n",
       "       'phone', 'display_phone', 'review_count', 'categories', 'rating',\n",
       "       'location', 'coordinates', 'photos', 'price', 'hours', 'transactions',\n",
       "       'special_hours', 'messaging'],\n",
       "      dtype='object')"
      ]
     },
     "execution_count": 50,
     "metadata": {},
     "output_type": "execute_result"
    }
   ],
   "source": [
    "yelp_venue_details_df.columns"
   ]
  },
  {
   "cell_type": "code",
   "execution_count": 51,
   "metadata": {},
   "outputs": [
    {
     "data": {
      "text/plain": [
       "id                   object\n",
       "name                 object\n",
       "contact              object\n",
       "location             object\n",
       "canonicalUrl         object\n",
       "categories           object\n",
       "verified               bool\n",
       "stats                object\n",
       "url                  object\n",
       "price                object\n",
       "likes                object\n",
       "dislike                bool\n",
       "ok                     bool\n",
       "rating              float64\n",
       "ratingColor          object\n",
       "ratingSignals       float64\n",
       "allowMenuUrlEdit       bool\n",
       "beenHere             object\n",
       "specials             object\n",
       "photos               object\n",
       "reasons              object\n",
       "description          object\n",
       "page                 object\n",
       "hereNow              object\n",
       "createdAt             int64\n",
       "tips                 object\n",
       "shortUrl             object\n",
       "timeZone             object\n",
       "listed               object\n",
       "hours                object\n",
       "popular              object\n",
       "seasonalHours        object\n",
       "defaultHours         object\n",
       "pageUpdates          object\n",
       "inbox                object\n",
       "attributes           object\n",
       "bestPhoto            object\n",
       "colors               object\n",
       "parent               object\n",
       "hierarchy            object\n",
       "venuePage            object\n",
       "storeId              object\n",
       "dtype: object"
      ]
     },
     "execution_count": 51,
     "metadata": {},
     "output_type": "execute_result"
    }
   ],
   "source": [
    "foursquare_venue_details_df.dtypes"
   ]
  },
  {
   "cell_type": "code",
   "execution_count": 52,
   "metadata": {},
   "outputs": [
    {
     "data": {
      "text/plain": [
       "id                object\n",
       "alias             object\n",
       "name              object\n",
       "image_url         object\n",
       "is_claimed          bool\n",
       "is_closed           bool\n",
       "url               object\n",
       "phone             object\n",
       "display_phone     object\n",
       "review_count       int64\n",
       "categories        object\n",
       "rating           float64\n",
       "location          object\n",
       "coordinates       object\n",
       "photos            object\n",
       "price             object\n",
       "hours             object\n",
       "transactions      object\n",
       "special_hours     object\n",
       "messaging         object\n",
       "dtype: object"
      ]
     },
     "execution_count": 52,
     "metadata": {},
     "output_type": "execute_result"
    }
   ],
   "source": [
    "yelp_venue_details_df.dtypes"
   ]
  },
  {
   "cell_type": "markdown",
   "metadata": {},
   "source": [
    "# Mini-Project II SQLite\n",
    "create own SQLite database and store the data about the POIs. Think about what will be the best structure of the database. We've used and created sqlite3 databases before in the activity SQL in Python."
   ]
  },
  {
   "cell_type": "code",
   "execution_count": 55,
   "metadata": {},
   "outputs": [],
   "source": [
    "def create_connection(path):\n",
    "    connection = None\n",
    "    try:\n",
    "        connection = sqlite3.connect(path)\n",
    "        print(\"connection to SQLite DB successful\")\n",
    "    except Error as e:\n",
    "        print(f\"The error '{e}' occurred\")\n",
    "        \n",
    "    return connection"
   ]
  },
  {
   "cell_type": "code",
   "execution_count": 56,
   "metadata": {},
   "outputs": [
    {
     "name": "stdout",
     "output_type": "stream",
     "text": [
      "connection to SQLite DB successful\n"
     ]
    }
   ],
   "source": [
    "connection = create_connection(\"db/poi.sqlite\")"
   ]
  },
  {
   "cell_type": "code",
   "execution_count": 57,
   "metadata": {},
   "outputs": [],
   "source": [
    "# Function to execute queries to create tables, instert records and so on.\n",
    "def execute_query(connection, query):\n",
    "    cursor = connection.cursor()\n",
    "    try:\n",
    "        cursor.execute(query)\n",
    "        connection.commit()\n",
    "        print(\"Query executed successfully\")\n",
    "    except Error as e:\n",
    "        print(f\"The error '{e}' occurred\")"
   ]
  },
  {
   "cell_type": "code",
   "execution_count": 58,
   "metadata": {},
   "outputs": [],
   "source": [
    "# Function to execute queries to read tables\n",
    "def execute_read_query(connection, query):\n",
    "    cursor = connection.cursor()\n",
    "    result = None\n",
    "    try:\n",
    "        cursor.execute(query)\n",
    "        result = cursor.fetchall()\n",
    "        return result\n",
    "    except Error as e:\n",
    "        print(f\"The error '{e}' occurred\")"
   ]
  },
  {
   "cell_type": "code",
   "execution_count": 59,
   "metadata": {},
   "outputs": [
    {
     "name": "stdout",
     "output_type": "stream",
     "text": [
      "Query executed successfully\n"
     ]
    }
   ],
   "source": [
    "create_venues_table = \"\"\"\n",
    "CREATE TABLE IF NOT EXISTS venues_1 (\n",
    "  pKey INTEGER PRIMARY KEY AUTOINCREMENT,\n",
    "  id TEXT NOT NULL,\n",
    "  name TEXT NOT NULL,\n",
    "  category TEXT,\n",
    "  app_url TEXT,\n",
    "  rating REAL,\n",
    "  reviews INTEGER,\n",
    "  likes INTEGER,\n",
    "  address TEXT, \n",
    "  crossStreet TEXT, \n",
    "  latitude REAL,\n",
    "  longitude REAL,\n",
    "  city TEXT,\n",
    "  state TEXT,\n",
    "  country TEXT,\n",
    "  postalCode TEXT,\n",
    "  source TEXT NOT NULL\n",
    ");\n",
    "\"\"\"\n",
    "execute_query(connection, create_venues_table)"
   ]
  },
  {
   "cell_type": "code",
   "execution_count": 60,
   "metadata": {},
   "outputs": [],
   "source": [
    "# prepare foursquare data to be inserted in the database\n",
    "f_columns=['id', 'name', 'categories', 'canonicalUrl', 'rating', 'stats', 'likes']\n",
    "f_test =foursquare_venue_details_df.loc[:, f_columns]"
   ]
  },
  {
   "cell_type": "code",
   "execution_count": 61,
   "metadata": {},
   "outputs": [],
   "source": [
    "#project_themes['name'] = project_themes['code'].apply(lambda x: theme_dict[x])\n",
    "f_test['category'] = f_test['categories'].apply(lambda x: x[0]['name'])\n",
    "f_test['reviews'] = f_test['stats'].apply(lambda x: x['tipCount'])\n",
    "f_test['likes'] = f_test['likes'].apply(lambda x: x['count'])"
   ]
  },
  {
   "cell_type": "code",
   "execution_count": 64,
   "metadata": {},
   "outputs": [],
   "source": [
    "def insert_forsquare_data(sql):\n",
    "    cursor = connection.cursor()\n",
    "    try:\n",
    "        for row in f_test.iterrows():\n",
    "            cursor.execute(\"INSERT INTO venues(id, name, category, app_url, rating, reviews, likes, source) VALUES(?,?,?,?,?,?,?,?)\", (row[1]['id'], row[1]['name'], row[1]['category'], row[1]['canonicalUrl'], row[1]['rating'], row[1]['reviews'] ,row[1]['likes'], 'Foursquare'))\n",
    "#print(row[1]['id'], row[1]['name'], row[1]['category'], row[1]['canonicalUrl'], row[1]['rating'], row[1]['reviews'] ,row[1]['likes']) \n",
    "        connection.commit()\n",
    "        print(\"Query executed successfully\")\n",
    "    except Error as e:\n",
    "        print(f\"The error '{e}' occurred\")"
   ]
  },
  {
   "cell_type": "code",
   "execution_count": null,
   "metadata": {},
   "outputs": [],
   "source": [
    "insert_forsquare_data()"
   ]
  },
  {
   "cell_type": "code",
   "execution_count": 66,
   "metadata": {},
   "outputs": [],
   "source": [
    "y_columns=['id', 'name', 'categories', 'url', 'rating', 'review_count']\n",
    "y_insert =yelp_venue_details_df.loc[:, y_columns]"
   ]
  },
  {
   "cell_type": "code",
   "execution_count": 67,
   "metadata": {},
   "outputs": [],
   "source": [
    "filter=y_insert['id'].notna()\n",
    "y_insert = y_insert[filter]"
   ]
  },
  {
   "cell_type": "code",
   "execution_count": 69,
   "metadata": {},
   "outputs": [],
   "source": [
    "# take category\n",
    "y_insert['category'] = y_insert['categories'].apply(lambda x: x[0]['title'])"
   ]
  },
  {
   "cell_type": "code",
   "execution_count": 70,
   "metadata": {},
   "outputs": [],
   "source": [
    "def insert_yelp_data():\n",
    "    cursor = connection.cursor()\n",
    "    try:\n",
    "        for row in y_insert.iterrows():\n",
    "            cursor.execute(\"INSERT INTO venues(id, name, category, app_url, rating, reviews, source) VALUES(?,?,?,?,?,?,?)\", (row[1]['id'], row[1]['name'], row[1]['category'], row[1]['url'], row[1]['rating'], row[1]['review_count'], 'Yelp'))\n",
    "#print(row[1]['id'], row[1]['name'], row[1]['category'], row[1]['canonicalUrl'], row[1]['rating'], row[1]['reviews'] ,row[1]['likes']) \n",
    "        connection.commit()\n",
    "        print(\"Query executed successfully\")\n",
    "    except Error as e:\n",
    "        print(f\"The error '{e}' occurred\")"
   ]
  },
  {
   "cell_type": "code",
   "execution_count": 71,
   "metadata": {},
   "outputs": [
    {
     "name": "stdout",
     "output_type": "stream",
     "text": [
      "Query executed successfully\n"
     ]
    }
   ],
   "source": [
    "insert_yelp_data()"
   ]
  }
 ],
 "metadata": {
  "kernelspec": {
   "display_name": "ds_bootcamp_one",
   "language": "python",
   "name": "ds_bootcamp_one"
  },
  "language_info": {
   "codemirror_mode": {
    "name": "ipython",
    "version": 3
   },
   "file_extension": ".py",
   "mimetype": "text/x-python",
   "name": "python",
   "nbconvert_exporter": "python",
   "pygments_lexer": "ipython3",
   "version": "3.8.5"
  }
 },
 "nbformat": 4,
 "nbformat_minor": 4
}
